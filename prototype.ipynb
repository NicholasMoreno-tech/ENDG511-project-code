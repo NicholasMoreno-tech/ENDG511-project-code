{
 "cells": [
  {
   "cell_type": "code",
   "execution_count": null,
   "metadata": {},
   "outputs": [],
   "source": [
    "import tensorflow as tf\n",
    "from tensorflow.keras import layers, models\n",
    "from tensorflow.keras import regularizers\n",
    "import torch\n",
    "import os\n",
    "import pandas as pd\n",
    "import glob\n",
    "import numpy as np\n",
    "from sklearn.model_selection import train_test_split\n",
    "from sklearn.preprocessing import StandardScaler\n",
    "from sklearn.preprocessing import LabelEncoder,  OneHotEncoder\n",
    "import matplotlib.pyplot as plt\n",
    "from tensorflow.keras.regularizers import l2\n",
    "from tensorflow.keras.callbacks import EarlyStopping\n",
    "import time\n",
    "from sklearn import metrics\n",
    "from sklearn.metrics import confusion_matrix, ConfusionMatrixDisplay\n",
    "import seaborn as sns\n",
    "import matplotlib.pyplot as plt\n",
    "from sklearn.metrics import precision_score, f1_score, roc_auc_score, accuracy_score\n",
    "from sklearn.compose import ColumnTransformer\n",
    "from sklearn.metrics import classification_report, roc_auc_score\n",
    "\n"
   ]
  },
  {
   "cell_type": "code",
   "execution_count": 2,
   "metadata": {},
   "outputs": [],
   "source": [
    "# csv_files = glob.glob(\"*.binetflow\") \n",
    "# all_df = []\n",
    "# for file in csv_files:\n",
    "#     df = pd.read_csv(file)\n",
    "#     all_df.append(df)\n",
    "# combined_df = pd.concat(all_df, ignore_index=True)\n",
    "# df = combined_df\n",
    "df = pd.read_csv('ctu-13-1.binetflow')\n",
    "df1 = df"
   ]
  },
  {
   "cell_type": "code",
   "execution_count": 3,
   "metadata": {},
   "outputs": [],
   "source": [
    "df.to_csv('out.csv', index=False)  "
   ]
  },
  {
   "cell_type": "code",
   "execution_count": 4,
   "metadata": {},
   "outputs": [
    {
     "data": {
      "text/html": [
       "<div>\n",
       "<style scoped>\n",
       "    .dataframe tbody tr th:only-of-type {\n",
       "        vertical-align: middle;\n",
       "    }\n",
       "\n",
       "    .dataframe tbody tr th {\n",
       "        vertical-align: top;\n",
       "    }\n",
       "\n",
       "    .dataframe thead th {\n",
       "        text-align: right;\n",
       "    }\n",
       "</style>\n",
       "<table border=\"1\" class=\"dataframe\">\n",
       "  <thead>\n",
       "    <tr style=\"text-align: right;\">\n",
       "      <th></th>\n",
       "      <th>StartTime</th>\n",
       "      <th>Dur</th>\n",
       "      <th>Proto</th>\n",
       "      <th>SrcAddr</th>\n",
       "      <th>Sport</th>\n",
       "      <th>Dir</th>\n",
       "      <th>DstAddr</th>\n",
       "      <th>Dport</th>\n",
       "      <th>State</th>\n",
       "      <th>sTos</th>\n",
       "      <th>dTos</th>\n",
       "      <th>TotPkts</th>\n",
       "      <th>TotBytes</th>\n",
       "      <th>SrcBytes</th>\n",
       "      <th>Label</th>\n",
       "    </tr>\n",
       "  </thead>\n",
       "  <tbody>\n",
       "    <tr>\n",
       "      <th>0</th>\n",
       "      <td>2011/08/10 09:46:59.607825</td>\n",
       "      <td>1.026539</td>\n",
       "      <td>tcp</td>\n",
       "      <td>94.44.127.113</td>\n",
       "      <td>1577</td>\n",
       "      <td>-&gt;</td>\n",
       "      <td>147.32.84.59</td>\n",
       "      <td>6881</td>\n",
       "      <td>S_RA</td>\n",
       "      <td>0.0</td>\n",
       "      <td>0.0</td>\n",
       "      <td>4</td>\n",
       "      <td>276</td>\n",
       "      <td>156</td>\n",
       "      <td>flow=Background-Established-cmpgw-CVUT</td>\n",
       "    </tr>\n",
       "    <tr>\n",
       "      <th>1</th>\n",
       "      <td>2011/08/10 09:47:00.634364</td>\n",
       "      <td>1.009595</td>\n",
       "      <td>tcp</td>\n",
       "      <td>94.44.127.113</td>\n",
       "      <td>1577</td>\n",
       "      <td>-&gt;</td>\n",
       "      <td>147.32.84.59</td>\n",
       "      <td>6881</td>\n",
       "      <td>S_RA</td>\n",
       "      <td>0.0</td>\n",
       "      <td>0.0</td>\n",
       "      <td>4</td>\n",
       "      <td>276</td>\n",
       "      <td>156</td>\n",
       "      <td>flow=Background-Established-cmpgw-CVUT</td>\n",
       "    </tr>\n",
       "    <tr>\n",
       "      <th>2</th>\n",
       "      <td>2011/08/10 09:47:48.185538</td>\n",
       "      <td>3.056586</td>\n",
       "      <td>tcp</td>\n",
       "      <td>147.32.86.89</td>\n",
       "      <td>4768</td>\n",
       "      <td>-&gt;</td>\n",
       "      <td>77.75.73.33</td>\n",
       "      <td>80</td>\n",
       "      <td>SR_A</td>\n",
       "      <td>0.0</td>\n",
       "      <td>0.0</td>\n",
       "      <td>3</td>\n",
       "      <td>182</td>\n",
       "      <td>122</td>\n",
       "      <td>flow=Background-TCP-Attempt</td>\n",
       "    </tr>\n",
       "    <tr>\n",
       "      <th>3</th>\n",
       "      <td>2011/08/10 09:47:48.230897</td>\n",
       "      <td>3.111769</td>\n",
       "      <td>tcp</td>\n",
       "      <td>147.32.86.89</td>\n",
       "      <td>4788</td>\n",
       "      <td>-&gt;</td>\n",
       "      <td>77.75.73.33</td>\n",
       "      <td>80</td>\n",
       "      <td>SR_A</td>\n",
       "      <td>0.0</td>\n",
       "      <td>0.0</td>\n",
       "      <td>3</td>\n",
       "      <td>182</td>\n",
       "      <td>122</td>\n",
       "      <td>flow=Background-TCP-Attempt</td>\n",
       "    </tr>\n",
       "    <tr>\n",
       "      <th>4</th>\n",
       "      <td>2011/08/10 09:47:48.963351</td>\n",
       "      <td>3.083411</td>\n",
       "      <td>tcp</td>\n",
       "      <td>147.32.86.89</td>\n",
       "      <td>4850</td>\n",
       "      <td>-&gt;</td>\n",
       "      <td>77.75.73.33</td>\n",
       "      <td>80</td>\n",
       "      <td>SR_A</td>\n",
       "      <td>0.0</td>\n",
       "      <td>0.0</td>\n",
       "      <td>3</td>\n",
       "      <td>182</td>\n",
       "      <td>122</td>\n",
       "      <td>flow=Background-TCP-Attempt</td>\n",
       "    </tr>\n",
       "    <tr>\n",
       "      <th>...</th>\n",
       "      <td>...</td>\n",
       "      <td>...</td>\n",
       "      <td>...</td>\n",
       "      <td>...</td>\n",
       "      <td>...</td>\n",
       "      <td>...</td>\n",
       "      <td>...</td>\n",
       "      <td>...</td>\n",
       "      <td>...</td>\n",
       "      <td>...</td>\n",
       "      <td>...</td>\n",
       "      <td>...</td>\n",
       "      <td>...</td>\n",
       "      <td>...</td>\n",
       "      <td>...</td>\n",
       "    </tr>\n",
       "    <tr>\n",
       "      <th>2824631</th>\n",
       "      <td>2011/08/10 15:54:07.352393</td>\n",
       "      <td>0.000393</td>\n",
       "      <td>udp</td>\n",
       "      <td>147.32.86.92</td>\n",
       "      <td>36363</td>\n",
       "      <td>&lt;-&gt;</td>\n",
       "      <td>147.32.80.9</td>\n",
       "      <td>53</td>\n",
       "      <td>CON</td>\n",
       "      <td>0.0</td>\n",
       "      <td>0.0</td>\n",
       "      <td>2</td>\n",
       "      <td>208</td>\n",
       "      <td>79</td>\n",
       "      <td>flow=To-Background-UDP-CVUT-DNS-Server</td>\n",
       "    </tr>\n",
       "    <tr>\n",
       "      <th>2824632</th>\n",
       "      <td>2011/08/10 15:54:07.353854</td>\n",
       "      <td>0.000935</td>\n",
       "      <td>udp</td>\n",
       "      <td>58.165.41.84</td>\n",
       "      <td>60122</td>\n",
       "      <td>&lt;-&gt;</td>\n",
       "      <td>147.32.84.229</td>\n",
       "      <td>13363</td>\n",
       "      <td>CON</td>\n",
       "      <td>0.0</td>\n",
       "      <td>0.0</td>\n",
       "      <td>2</td>\n",
       "      <td>539</td>\n",
       "      <td>75</td>\n",
       "      <td>flow=Background-UDP-Established</td>\n",
       "    </tr>\n",
       "    <tr>\n",
       "      <th>2824633</th>\n",
       "      <td>2011/08/10 15:54:07.357302</td>\n",
       "      <td>0.000000</td>\n",
       "      <td>tcp</td>\n",
       "      <td>147.32.84.171</td>\n",
       "      <td>47077</td>\n",
       "      <td>-&gt;</td>\n",
       "      <td>78.191.168.43</td>\n",
       "      <td>13754</td>\n",
       "      <td>S_</td>\n",
       "      <td>0.0</td>\n",
       "      <td>NaN</td>\n",
       "      <td>1</td>\n",
       "      <td>74</td>\n",
       "      <td>74</td>\n",
       "      <td>flow=Background-TCP-Attempt</td>\n",
       "    </tr>\n",
       "    <tr>\n",
       "      <th>2824634</th>\n",
       "      <td>2011/08/10 15:54:07.366830</td>\n",
       "      <td>0.002618</td>\n",
       "      <td>udp</td>\n",
       "      <td>93.79.39.15</td>\n",
       "      <td>10520</td>\n",
       "      <td>&lt;-&gt;</td>\n",
       "      <td>147.32.84.229</td>\n",
       "      <td>13363</td>\n",
       "      <td>CON</td>\n",
       "      <td>0.0</td>\n",
       "      <td>0.0</td>\n",
       "      <td>2</td>\n",
       "      <td>520</td>\n",
       "      <td>460</td>\n",
       "      <td>flow=Background-UDP-Established</td>\n",
       "    </tr>\n",
       "    <tr>\n",
       "      <th>2824635</th>\n",
       "      <td>2011/08/10 15:54:07.368340</td>\n",
       "      <td>0.001122</td>\n",
       "      <td>udp</td>\n",
       "      <td>78.56.231.126</td>\n",
       "      <td>29419</td>\n",
       "      <td>&lt;-&gt;</td>\n",
       "      <td>147.32.84.229</td>\n",
       "      <td>13363</td>\n",
       "      <td>CON</td>\n",
       "      <td>0.0</td>\n",
       "      <td>0.0</td>\n",
       "      <td>2</td>\n",
       "      <td>137</td>\n",
       "      <td>77</td>\n",
       "      <td>flow=Background-UDP-Established</td>\n",
       "    </tr>\n",
       "  </tbody>\n",
       "</table>\n",
       "<p>2824636 rows × 15 columns</p>\n",
       "</div>"
      ],
      "text/plain": [
       "                          StartTime       Dur Proto        SrcAddr  Sport  \\\n",
       "0        2011/08/10 09:46:59.607825  1.026539   tcp  94.44.127.113   1577   \n",
       "1        2011/08/10 09:47:00.634364  1.009595   tcp  94.44.127.113   1577   \n",
       "2        2011/08/10 09:47:48.185538  3.056586   tcp   147.32.86.89   4768   \n",
       "3        2011/08/10 09:47:48.230897  3.111769   tcp   147.32.86.89   4788   \n",
       "4        2011/08/10 09:47:48.963351  3.083411   tcp   147.32.86.89   4850   \n",
       "...                             ...       ...   ...            ...    ...   \n",
       "2824631  2011/08/10 15:54:07.352393  0.000393   udp   147.32.86.92  36363   \n",
       "2824632  2011/08/10 15:54:07.353854  0.000935   udp   58.165.41.84  60122   \n",
       "2824633  2011/08/10 15:54:07.357302  0.000000   tcp  147.32.84.171  47077   \n",
       "2824634  2011/08/10 15:54:07.366830  0.002618   udp    93.79.39.15  10520   \n",
       "2824635  2011/08/10 15:54:07.368340  0.001122   udp  78.56.231.126  29419   \n",
       "\n",
       "           Dir        DstAddr  Dport State  sTos  dTos  TotPkts  TotBytes  \\\n",
       "0           ->   147.32.84.59   6881  S_RA   0.0   0.0        4       276   \n",
       "1           ->   147.32.84.59   6881  S_RA   0.0   0.0        4       276   \n",
       "2           ->    77.75.73.33     80  SR_A   0.0   0.0        3       182   \n",
       "3           ->    77.75.73.33     80  SR_A   0.0   0.0        3       182   \n",
       "4           ->    77.75.73.33     80  SR_A   0.0   0.0        3       182   \n",
       "...        ...            ...    ...   ...   ...   ...      ...       ...   \n",
       "2824631    <->    147.32.80.9     53   CON   0.0   0.0        2       208   \n",
       "2824632    <->  147.32.84.229  13363   CON   0.0   0.0        2       539   \n",
       "2824633     ->  78.191.168.43  13754    S_   0.0   NaN        1        74   \n",
       "2824634    <->  147.32.84.229  13363   CON   0.0   0.0        2       520   \n",
       "2824635    <->  147.32.84.229  13363   CON   0.0   0.0        2       137   \n",
       "\n",
       "         SrcBytes                                   Label  \n",
       "0             156  flow=Background-Established-cmpgw-CVUT  \n",
       "1             156  flow=Background-Established-cmpgw-CVUT  \n",
       "2             122             flow=Background-TCP-Attempt  \n",
       "3             122             flow=Background-TCP-Attempt  \n",
       "4             122             flow=Background-TCP-Attempt  \n",
       "...           ...                                     ...  \n",
       "2824631        79  flow=To-Background-UDP-CVUT-DNS-Server  \n",
       "2824632        75         flow=Background-UDP-Established  \n",
       "2824633        74             flow=Background-TCP-Attempt  \n",
       "2824634       460         flow=Background-UDP-Established  \n",
       "2824635        77         flow=Background-UDP-Established  \n",
       "\n",
       "[2824636 rows x 15 columns]"
      ]
     },
     "execution_count": 4,
     "metadata": {},
     "output_type": "execute_result"
    }
   ],
   "source": [
    "df"
   ]
  },
  {
   "cell_type": "code",
   "execution_count": 5,
   "metadata": {},
   "outputs": [
    {
     "data": {
      "text/plain": [
       "Index(['StartTime', 'Dur', 'Proto', 'SrcAddr', 'Sport', 'Dir', 'DstAddr',\n",
       "       'Dport', 'State', 'sTos', 'dTos', 'TotPkts', 'TotBytes', 'SrcBytes',\n",
       "       'Label'],\n",
       "      dtype='object')"
      ]
     },
     "execution_count": 5,
     "metadata": {},
     "output_type": "execute_result"
    }
   ],
   "source": [
    "df.columns"
   ]
  },
  {
   "cell_type": "code",
   "execution_count": 6,
   "metadata": {},
   "outputs": [
    {
     "name": "stdout",
     "output_type": "stream",
     "text": [
      "NaN count in col1: 0\n"
     ]
    }
   ],
   "source": [
    "nan_count_col1 = df['Label'].isna().sum()\n",
    "print(f\"NaN count in col1: {nan_count_col1}\")"
   ]
  },
  {
   "cell_type": "code",
   "execution_count": 7,
   "metadata": {},
   "outputs": [
    {
     "data": {
      "text/plain": [
       "StartTime     object\n",
       "Dur          float64\n",
       "Proto         object\n",
       "SrcAddr       object\n",
       "Sport         object\n",
       "Dir           object\n",
       "DstAddr       object\n",
       "Dport         object\n",
       "State         object\n",
       "sTos         float64\n",
       "dTos         float64\n",
       "TotPkts        int64\n",
       "TotBytes       int64\n",
       "SrcBytes       int64\n",
       "Label         object\n",
       "dtype: object"
      ]
     },
     "execution_count": 7,
     "metadata": {},
     "output_type": "execute_result"
    }
   ],
   "source": [
    "df.dtypes"
   ]
  },
  {
   "cell_type": "code",
   "execution_count": null,
   "metadata": {},
   "outputs": [],
   "source": [
    "labels = df['Label'].astype(str)\n",
    "df['Label'] = labels\n",
    "\n",
    "substring = 'botnet'\n",
    "replacement = 'Botnet'\n",
    "replacement_else = 'Safe'\n",
    "\n",
    "for index in range(len(df)):\n",
    "    if substring in df.loc[index, 'Label'].lower():  \n",
    "        df.loc[index, 'Label'] = replacement\n",
    "    else:\n",
    "        df.loc[index, 'Label'] = replacement_else"
   ]
  },
  {
   "cell_type": "code",
   "execution_count": 9,
   "metadata": {},
   "outputs": [
    {
     "data": {
      "text/plain": [
       "StartTime     object\n",
       "Dur          float64\n",
       "Proto         object\n",
       "SrcAddr       object\n",
       "Sport         object\n",
       "Dir           object\n",
       "DstAddr       object\n",
       "Dport         object\n",
       "State         object\n",
       "sTos         float64\n",
       "dTos         float64\n",
       "TotPkts        int64\n",
       "TotBytes       int64\n",
       "SrcBytes       int64\n",
       "Label         object\n",
       "dtype: object"
      ]
     },
     "execution_count": 9,
     "metadata": {},
     "output_type": "execute_result"
    }
   ],
   "source": [
    "le = LabelEncoder()\n",
    "df.dtypes"
   ]
  },
  {
   "cell_type": "code",
   "execution_count": null,
   "metadata": {},
   "outputs": [],
   "source": [
    "labels = df['Label'].astype(str)  \n",
    "features = df.drop(columns=['Label'])  \n",
    "df = df.drop(columns=['Label'])\n",
    "features_array = features.to_numpy()\n",
    "labels_array = labels.to_numpy()\n"
   ]
  },
  {
   "cell_type": "code",
   "execution_count": 11,
   "metadata": {},
   "outputs": [
    {
     "data": {
      "text/plain": [
       "StartTime     object\n",
       "Dur          float64\n",
       "Proto         object\n",
       "SrcAddr       object\n",
       "Sport         object\n",
       "Dir           object\n",
       "DstAddr       object\n",
       "Dport         object\n",
       "State         object\n",
       "sTos         float64\n",
       "dTos         float64\n",
       "TotPkts        int64\n",
       "TotBytes       int64\n",
       "SrcBytes       int64\n",
       "dtype: object"
      ]
     },
     "execution_count": 11,
     "metadata": {},
     "output_type": "execute_result"
    }
   ],
   "source": [
    "df.dtypes"
   ]
  },
  {
   "cell_type": "code",
   "execution_count": null,
   "metadata": {},
   "outputs": [
    {
     "name": "stdout",
     "output_type": "stream",
     "text": [
      "         StartTime       Dur  Proto  SrcAddr  Sport  Dir  DstAddr  Dport  \\\n",
      "0             1571  1.026539     11   505974   6374    0    21316  70633   \n",
      "1             1845  1.009595     11   505974   6374    0    21316  70633   \n",
      "2             9871  3.056586     11    86960  41592    0    77982  71762   \n",
      "3             9891  3.111769     11    86960  41813    0    77982  71762   \n",
      "4            10036  3.083411     11    86960  42497    0    77982  71762   \n",
      "...            ...       ...    ...      ...    ...  ...      ...    ...   \n",
      "2824631    2824631  0.000393     12    86961  29109    3    21100  56655   \n",
      "2824632    2824632  0.000935     12   255324  55302    3    21250  13005   \n",
      "2824633    2824633  0.000000     11    86764  40927    0    79629  13437   \n",
      "2824634    2824634  0.002618     12   492849    571    3    21250  13005   \n",
      "2824635    2824635  0.001122     12   330828  21447    3    21250  13005   \n",
      "\n",
      "         State  sTos  dTos  TotPkts  TotBytes  SrcBytes  \n",
      "0          203   0.0   0.0        4       276       156  \n",
      "1          203   0.0   0.0        4       276       156  \n",
      "2          193   0.0   0.0        3       182       122  \n",
      "3          193   0.0   0.0        3       182       122  \n",
      "4          193   0.0   0.0        3       182       122  \n",
      "...        ...   ...   ...      ...       ...       ...  \n",
      "2824631      7   0.0   0.0        2       208        79  \n",
      "2824632      7   0.0   0.0        2       539        75  \n",
      "2824633    198   0.0   NaN        1        74        74  \n",
      "2824634      7   0.0   0.0        2       520       460  \n",
      "2824635      7   0.0   0.0        2       137        77  \n",
      "\n",
      "[2824636 rows x 14 columns]\n"
     ]
    }
   ],
   "source": [
    "le = LabelEncoder()\n",
    "df['StartTime'] = le.fit_transform(df['StartTime'])\n",
    "df['Proto'] = le.fit_transform(df['Proto']) \n",
    "df['SrcAddr'] = le.fit_transform(df['SrcAddr'])\n",
    "df['Sport'] = le.fit_transform(df['Sport'])\n",
    "df['Dir'] = le.fit_transform(df['Dir'])\n",
    "df['DstAddr'] = le.fit_transform(df['DstAddr'])\n",
    "df['Dport'] = le.fit_transform(df['Dport'])\n",
    "df['State'] = le.fit_transform(df['State'])\n",
    "\n",
    "print(df)"
   ]
  },
  {
   "cell_type": "code",
   "execution_count": 13,
   "metadata": {},
   "outputs": [],
   "source": [
    "features_array = df.to_numpy()\n",
    "# df"
   ]
  },
  {
   "cell_type": "code",
   "execution_count": 14,
   "metadata": {},
   "outputs": [
    {
     "name": "stdout",
     "output_type": "stream",
     "text": [
      "0          Safe\n",
      "1          Safe\n",
      "2          Safe\n",
      "3          Safe\n",
      "4          Safe\n",
      "           ... \n",
      "2824631    Safe\n",
      "2824632    Safe\n",
      "2824633    Safe\n",
      "2824634    Safe\n",
      "2824635    Safe\n",
      "Name: Label, Length: 2824636, dtype: object\n"
     ]
    }
   ],
   "source": [
    "print(labels)"
   ]
  },
  {
   "cell_type": "code",
   "execution_count": null,
   "metadata": {},
   "outputs": [
    {
     "name": "stdout",
     "output_type": "stream",
     "text": [
      "Features tensor shape: torch.Size([2824636, 14])\n",
      "Labels tensor shape: torch.Size([2824636])\n",
      "Encoded labels: [1 1 1 ... 1 1 1]\n",
      "Classes (mapping): ['Botnet' 'Safe']\n"
     ]
    }
   ],
   "source": [
    "le = LabelEncoder()\n",
    "le.fit(labels)\n",
    "if labels.dtype == 'object':  \n",
    "    labels_encoded = le.transform(labels)\n",
    "else:\n",
    "    labels_encoded = labels.to_numpy()\n",
    "    \n",
    "# Convert to PyTorch tensors\n",
    "features_tensor = torch.tensor(features_array, dtype=torch.float32)\n",
    "labels_tensor = torch.tensor(labels_encoded, dtype=torch.long)\n",
    "\n",
    "# Verify\n",
    "print(f\"Features tensor shape: {features_tensor.shape}\")\n",
    "print(f\"Labels tensor shape: {labels_tensor.shape}\")\n",
    "\n",
    "#print(\"Original labels:\", labels)\n",
    "print(\"Encoded labels:\", labels_encoded)\n",
    "print(\"Classes (mapping):\", le.classes_)"
   ]
  },
  {
   "cell_type": "code",
   "execution_count": 16,
   "metadata": {},
   "outputs": [
    {
     "name": "stdout",
     "output_type": "stream",
     "text": [
      "Examples:\n",
      "     Total: 2824636\n",
      "      Positive: 2783675  (98.55% of total)\n",
      "\n"
     ]
    }
   ],
   "source": [
    "neg,pos = np.bincount(labels_encoded)\n",
    "total = neg + pos\n",
    "\n",
    "print('Examples:\\n     Total: {}\\n      Positive: {}  ({:.2f}% of total)\\n'.format(total, pos, 100*pos/total))"
   ]
  },
  {
   "cell_type": "code",
   "execution_count": null,
   "metadata": {},
   "outputs": [],
   "source": [
    "features_normalized = features_array\n",
    "\n",
    "features_tensor = torch.tensor(features_normalized, dtype=torch.float32)"
   ]
  },
  {
   "cell_type": "code",
   "execution_count": 18,
   "metadata": {},
   "outputs": [
    {
     "data": {
      "text/plain": [
       "array([[1.571000e+03, 1.026539e+00, 1.100000e+01, ..., 4.000000e+00,\n",
       "        2.760000e+02, 1.560000e+02],\n",
       "       [1.845000e+03, 1.009595e+00, 1.100000e+01, ..., 4.000000e+00,\n",
       "        2.760000e+02, 1.560000e+02],\n",
       "       [9.871000e+03, 3.056586e+00, 1.100000e+01, ..., 3.000000e+00,\n",
       "        1.820000e+02, 1.220000e+02],\n",
       "       ...,\n",
       "       [2.824633e+06, 0.000000e+00, 1.100000e+01, ..., 1.000000e+00,\n",
       "        7.400000e+01, 7.400000e+01],\n",
       "       [2.824634e+06, 2.618000e-03, 1.200000e+01, ..., 2.000000e+00,\n",
       "        5.200000e+02, 4.600000e+02],\n",
       "       [2.824635e+06, 1.122000e-03, 1.200000e+01, ..., 2.000000e+00,\n",
       "        1.370000e+02, 7.700000e+01]])"
      ]
     },
     "execution_count": 18,
     "metadata": {},
     "output_type": "execute_result"
    }
   ],
   "source": [
    "features_normalized"
   ]
  },
  {
   "cell_type": "code",
   "execution_count": 19,
   "metadata": {},
   "outputs": [
    {
     "data": {
      "text/plain": [
       "<bound method Series.unique of 0          Safe\n",
       "1          Safe\n",
       "2          Safe\n",
       "3          Safe\n",
       "4          Safe\n",
       "           ... \n",
       "2824631    Safe\n",
       "2824632    Safe\n",
       "2824633    Safe\n",
       "2824634    Safe\n",
       "2824635    Safe\n",
       "Name: Label, Length: 2824636, dtype: object>"
      ]
     },
     "execution_count": 19,
     "metadata": {},
     "output_type": "execute_result"
    }
   ],
   "source": [
    "unique_names = labels.nunique()\n",
    "labels.unique"
   ]
  },
  {
   "cell_type": "code",
   "execution_count": 20,
   "metadata": {},
   "outputs": [
    {
     "name": "stdout",
     "output_type": "stream",
     "text": [
      "2\n"
     ]
    }
   ],
   "source": [
    "print(unique_names)"
   ]
  },
  {
   "cell_type": "code",
   "execution_count": 21,
   "metadata": {},
   "outputs": [
    {
     "name": "stdout",
     "output_type": "stream",
     "text": [
      "Features tensor:\n",
      "tensor([[1.5710e+03, 1.0265e+00, 1.1000e+01, 5.0597e+05, 6.3740e+03, 0.0000e+00,\n",
      "         2.1316e+04, 7.0633e+04, 2.0300e+02, 0.0000e+00, 0.0000e+00, 4.0000e+00,\n",
      "         2.7600e+02, 1.5600e+02],\n",
      "        [1.8450e+03, 1.0096e+00, 1.1000e+01, 5.0597e+05, 6.3740e+03, 0.0000e+00,\n",
      "         2.1316e+04, 7.0633e+04, 2.0300e+02, 0.0000e+00, 0.0000e+00, 4.0000e+00,\n",
      "         2.7600e+02, 1.5600e+02],\n",
      "        [9.8710e+03, 3.0566e+00, 1.1000e+01, 8.6960e+04, 4.1592e+04, 0.0000e+00,\n",
      "         7.7982e+04, 7.1762e+04, 1.9300e+02, 0.0000e+00, 0.0000e+00, 3.0000e+00,\n",
      "         1.8200e+02, 1.2200e+02],\n",
      "        [9.8910e+03, 3.1118e+00, 1.1000e+01, 8.6960e+04, 4.1813e+04, 0.0000e+00,\n",
      "         7.7982e+04, 7.1762e+04, 1.9300e+02, 0.0000e+00, 0.0000e+00, 3.0000e+00,\n",
      "         1.8200e+02, 1.2200e+02],\n",
      "        [1.0036e+04, 3.0834e+00, 1.1000e+01, 8.6960e+04, 4.2497e+04, 0.0000e+00,\n",
      "         7.7982e+04, 7.1762e+04, 1.9300e+02, 0.0000e+00, 0.0000e+00, 3.0000e+00,\n",
      "         1.8200e+02, 1.2200e+02]])\n",
      "Labels tensor:\n",
      "tensor([1, 1, 1, 1, 1])\n"
     ]
    }
   ],
   "source": [
    "print(f\"Features tensor:\\n{features_tensor[:5]}\")\n",
    "print(f\"Labels tensor:\\n{labels_tensor[:5]}\")"
   ]
  },
  {
   "cell_type": "code",
   "execution_count": null,
   "metadata": {},
   "outputs": [],
   "source": [
    "train_ratio = 0.8\n",
    "train_size = int(train_ratio * len(features_tensor))\n",
    "\n",
    "train_features = features_tensor[:train_size]\n",
    "test_features = features_tensor[train_size:]\n",
    "\n",
    "train_labels = labels_tensor[:train_size]\n",
    "test_labels = labels_tensor[train_size:]"
   ]
  },
  {
   "cell_type": "code",
   "execution_count": 23,
   "metadata": {},
   "outputs": [],
   "source": [
    "train_features_np = train_features.numpy()\n",
    "train_labels_np = train_labels.numpy()\n",
    "test_features_np = test_features.numpy()\n",
    "test_labels_np = test_labels.numpy()\n"
   ]
  },
  {
   "cell_type": "code",
   "execution_count": 24,
   "metadata": {},
   "outputs": [
    {
     "name": "stdout",
     "output_type": "stream",
     "text": [
      "Examples:\n",
      "  Total: 2259708\n",
      "     Positive: 2229037  (98.64% of total)\n",
      "\n"
     ]
    }
   ],
   "source": [
    "neg,pos = np.bincount(train_labels_np)\n",
    "total = neg + pos\n",
    "\n",
    "print('Examples:\\n  Total: {}\\n     Positive: {}  ({:.2f}% of total)\\n'.format(total, pos, 100*pos/total))"
   ]
  },
  {
   "cell_type": "code",
   "execution_count": 25,
   "metadata": {},
   "outputs": [
    {
     "data": {
      "text/plain": [
       "(2259708, 14)"
      ]
     },
     "execution_count": 25,
     "metadata": {},
     "output_type": "execute_result"
    }
   ],
   "source": [
    "train_features_np.shape"
   ]
  },
  {
   "cell_type": "code",
   "execution_count": 26,
   "metadata": {},
   "outputs": [
    {
     "name": "stdout",
     "output_type": "stream",
     "text": [
      "Unique labels: [0 1]\n",
      "Label range: 0 1\n"
     ]
    }
   ],
   "source": [
    "print(\"Unique labels:\", np.unique(train_labels_np))\n",
    "print(\"Label range:\", np.min(train_labels_np), np.max(train_labels_np))\n"
   ]
  },
  {
   "cell_type": "code",
   "execution_count": 27,
   "metadata": {},
   "outputs": [
    {
     "name": "stdout",
     "output_type": "stream",
     "text": [
      "2\n",
      "(2259708,)\n"
     ]
    }
   ],
   "source": [
    "print(len(np.unique(train_labels_np)))\n",
    "n_outputs = train_labels_np.shape\n",
    "unique_labels = np.unique(train_labels_np)\n",
    "print(n_outputs)"
   ]
  },
  {
   "cell_type": "code",
   "execution_count": 28,
   "metadata": {},
   "outputs": [],
   "source": [
    "from sklearn.utils.class_weight import compute_class_weight\n",
    "\n",
    "class_weights = compute_class_weight('balanced', classes=np.unique(train_labels_np), y=train_labels_np)\n",
    "class_weight_dict = {i: weight for i, weight in enumerate(class_weights)}"
   ]
  },
  {
   "cell_type": "code",
   "execution_count": null,
   "metadata": {},
   "outputs": [
    {
     "name": "stdout",
     "output_type": "stream",
     "text": [
      "WARNING:tensorflow:From c:\\Users\\espac\\miniconda3\\envs\\islp\\Lib\\site-packages\\keras\\src\\backend.py:873: The name tf.get_default_graph is deprecated. Please use tf.compat.v1.get_default_graph instead.\n",
      "\n",
      "Epoch 1/10\n",
      "WARNING:tensorflow:From c:\\Users\\espac\\miniconda3\\envs\\islp\\Lib\\site-packages\\keras\\src\\utils\\tf_utils.py:492: The name tf.ragged.RaggedTensorValue is deprecated. Please use tf.compat.v1.ragged.RaggedTensorValue instead.\n",
      "\n",
      "WARNING:tensorflow:From c:\\Users\\espac\\miniconda3\\envs\\islp\\Lib\\site-packages\\keras\\src\\engine\\base_layer_utils.py:384: The name tf.executing_eagerly_outside_functions is deprecated. Please use tf.compat.v1.executing_eagerly_outside_functions instead.\n",
      "\n",
      "2260/2260 [==============================] - 15s 4ms/step - loss: nan - accuracy: 0.5322 - val_loss: nan - val_accuracy: 0.9818\n",
      "Epoch 2/10\n",
      "2260/2260 [==============================] - 9s 4ms/step - loss: nan - accuracy: 0.5085 - val_loss: nan - val_accuracy: 0.0182\n",
      "Epoch 3/10\n",
      "2260/2260 [==============================] - 9s 4ms/step - loss: nan - accuracy: 0.5122 - val_loss: nan - val_accuracy: 0.0182\n",
      "Epoch 4/10\n",
      "2260/2260 [==============================] - 9s 4ms/step - loss: nan - accuracy: 0.4485 - val_loss: nan - val_accuracy: 0.9818\n",
      "Epoch 5/10\n",
      "2260/2260 [==============================] - 9s 4ms/step - loss: nan - accuracy: 0.5599 - val_loss: nan - val_accuracy: 0.0182\n",
      "Epoch 6/10\n",
      "2260/2260 [==============================] - 9s 4ms/step - loss: nan - accuracy: 0.4957 - val_loss: nan - val_accuracy: 0.0182\n",
      "Epoch 7/10\n",
      "2260/2260 [==============================] - 9s 4ms/step - loss: nan - accuracy: 0.5012 - val_loss: nan - val_accuracy: 0.0182\n",
      "Epoch 8/10\n",
      "2260/2260 [==============================] - 9s 4ms/step - loss: nan - accuracy: 0.4974 - val_loss: nan - val_accuracy: 0.0182\n",
      "Epoch 9/10\n",
      "2260/2260 [==============================] - 9s 4ms/step - loss: nan - accuracy: 0.4914 - val_loss: nan - val_accuracy: 0.0182\n",
      "Epoch 10/10\n",
      "2260/2260 [==============================] - 9s 4ms/step - loss: nan - accuracy: 0.4631 - val_loss: nan - val_accuracy: 0.0182\n",
      "17654/17654 - 24s - loss: nan - accuracy: 0.0182 - 24s/epoch - 1ms/step\n",
      "Test accuracy: 0.01821471005678177\n"
     ]
    }
   ],
   "source": [
    "early_stop = EarlyStopping(monitor='val_loss', patience=5)\n",
    "\n",
    "model = tf.keras.models.Sequential()\n",
    "model.add(layers.Dense(64, activation='relu', input_shape=(14,), kernel_regularizer=l2(0.01)))\n",
    "model.add(layers.BatchNormalization())\n",
    "model.add(layers.Dense(16, activation='relu'))\n",
    "model.add(layers.BatchNormalization())\n",
    "model.add(layers.Dense(1, activation='sigmoid'))\n",
    "\n",
    "optimizer = tf.keras.optimizers.Nadam(learning_rate=1e-3)\n",
    "model.compile(optimizer=optimizer,\n",
    "              loss='binary_crossentropy',\n",
    "              metrics=['accuracy'])\n",
    "\n",
    "history = model.fit(train_features_np, train_labels_np,batch_size=1000, epochs=10, verbose=1,\n",
    "                    validation_data=(test_features_np, test_labels_np), class_weight=class_weight_dict)\n",
    "\n",
    "test_loss, test_acc = model.evaluate(test_features_np, test_labels_np, verbose=2)\n",
    "print(f\"Test accuracy: {test_acc}\")\n",
    "# model.save('testing_b.h5')"
   ]
  },
  {
   "cell_type": "code",
   "execution_count": 30,
   "metadata": {},
   "outputs": [
    {
     "name": "stdout",
     "output_type": "stream",
     "text": [
      "Model: \"sequential\"\n",
      "_________________________________________________________________\n",
      " Layer (type)                Output Shape              Param #   \n",
      "=================================================================\n",
      " dense (Dense)               (None, 64)                960       \n",
      "                                                                 \n",
      " batch_normalization (Batch  (None, 64)                256       \n",
      " Normalization)                                                  \n",
      "                                                                 \n",
      " dense_1 (Dense)             (None, 16)                1040      \n",
      "                                                                 \n",
      " batch_normalization_1 (Bat  (None, 16)                64        \n",
      " chNormalization)                                                \n",
      "                                                                 \n",
      " dense_2 (Dense)             (None, 1)                 17        \n",
      "                                                                 \n",
      "=================================================================\n",
      "Total params: 2337 (9.13 KB)\n",
      "Trainable params: 2177 (8.50 KB)\n",
      "Non-trainable params: 160 (640.00 Byte)\n",
      "_________________________________________________________________\n"
     ]
    }
   ],
   "source": [
    "model.summary()"
   ]
  },
  {
   "cell_type": "code",
   "execution_count": 31,
   "metadata": {},
   "outputs": [
    {
     "name": "stdout",
     "output_type": "stream",
     "text": [
      "Feature importances: [2.64863703e-02 4.24892047e-02 8.07016671e-03 3.81665860e-01\n",
      " 1.84826303e-01 2.96208336e-03 1.11523760e-01 7.99949676e-02\n",
      " 1.70354324e-02 1.25726395e-06 5.85493196e-03 3.57299972e-02\n",
      " 3.65962971e-02 6.67633686e-02]\n"
     ]
    }
   ],
   "source": [
    "from sklearn.ensemble import RandomForestClassifier\n",
    "\n",
    "rf = RandomForestClassifier()\n",
    "rf.fit(train_features_np, train_labels_np)\n",
    "print(\"Feature importances:\", rf.feature_importances_)"
   ]
  },
  {
   "cell_type": "code",
   "execution_count": 32,
   "metadata": {},
   "outputs": [
    {
     "data": {
      "text/plain": [
       "StartTime     object\n",
       "Dur          float64\n",
       "Proto         object\n",
       "SrcAddr       object\n",
       "Sport         object\n",
       "Dir           object\n",
       "DstAddr       object\n",
       "Dport         object\n",
       "State         object\n",
       "sTos         float64\n",
       "dTos         float64\n",
       "TotPkts        int64\n",
       "TotBytes       int64\n",
       "SrcBytes       int64\n",
       "Label         object\n",
       "dtype: object"
      ]
     },
     "execution_count": 32,
     "metadata": {},
     "output_type": "execute_result"
    }
   ],
   "source": [
    "df1.dtypes"
   ]
  },
  {
   "cell_type": "code",
   "execution_count": null,
   "metadata": {},
   "outputs": [],
   "source": [
    "df1 = df1.dropna()"
   ]
  },
  {
   "cell_type": "code",
   "execution_count": 34,
   "metadata": {},
   "outputs": [
    {
     "data": {
      "text/html": [
       "<div>\n",
       "<style scoped>\n",
       "    .dataframe tbody tr th:only-of-type {\n",
       "        vertical-align: middle;\n",
       "    }\n",
       "\n",
       "    .dataframe tbody tr th {\n",
       "        vertical-align: top;\n",
       "    }\n",
       "\n",
       "    .dataframe thead th {\n",
       "        text-align: right;\n",
       "    }\n",
       "</style>\n",
       "<table border=\"1\" class=\"dataframe\">\n",
       "  <thead>\n",
       "    <tr style=\"text-align: right;\">\n",
       "      <th></th>\n",
       "      <th>StartTime</th>\n",
       "      <th>Dur</th>\n",
       "      <th>Proto</th>\n",
       "      <th>SrcAddr</th>\n",
       "      <th>Sport</th>\n",
       "      <th>Dir</th>\n",
       "      <th>DstAddr</th>\n",
       "      <th>Dport</th>\n",
       "      <th>State</th>\n",
       "      <th>sTos</th>\n",
       "      <th>dTos</th>\n",
       "      <th>TotPkts</th>\n",
       "      <th>TotBytes</th>\n",
       "      <th>SrcBytes</th>\n",
       "      <th>Label</th>\n",
       "    </tr>\n",
       "  </thead>\n",
       "  <tbody>\n",
       "    <tr>\n",
       "      <th>0</th>\n",
       "      <td>2011/08/10 09:46:59.607825</td>\n",
       "      <td>1.026539</td>\n",
       "      <td>tcp</td>\n",
       "      <td>94.44.127.113</td>\n",
       "      <td>1577</td>\n",
       "      <td>-&gt;</td>\n",
       "      <td>147.32.84.59</td>\n",
       "      <td>6881</td>\n",
       "      <td>S_RA</td>\n",
       "      <td>0.0</td>\n",
       "      <td>0.0</td>\n",
       "      <td>4</td>\n",
       "      <td>276</td>\n",
       "      <td>156</td>\n",
       "      <td>Safe</td>\n",
       "    </tr>\n",
       "    <tr>\n",
       "      <th>1</th>\n",
       "      <td>2011/08/10 09:47:00.634364</td>\n",
       "      <td>1.009595</td>\n",
       "      <td>tcp</td>\n",
       "      <td>94.44.127.113</td>\n",
       "      <td>1577</td>\n",
       "      <td>-&gt;</td>\n",
       "      <td>147.32.84.59</td>\n",
       "      <td>6881</td>\n",
       "      <td>S_RA</td>\n",
       "      <td>0.0</td>\n",
       "      <td>0.0</td>\n",
       "      <td>4</td>\n",
       "      <td>276</td>\n",
       "      <td>156</td>\n",
       "      <td>Safe</td>\n",
       "    </tr>\n",
       "    <tr>\n",
       "      <th>2</th>\n",
       "      <td>2011/08/10 09:47:48.185538</td>\n",
       "      <td>3.056586</td>\n",
       "      <td>tcp</td>\n",
       "      <td>147.32.86.89</td>\n",
       "      <td>4768</td>\n",
       "      <td>-&gt;</td>\n",
       "      <td>77.75.73.33</td>\n",
       "      <td>80</td>\n",
       "      <td>SR_A</td>\n",
       "      <td>0.0</td>\n",
       "      <td>0.0</td>\n",
       "      <td>3</td>\n",
       "      <td>182</td>\n",
       "      <td>122</td>\n",
       "      <td>Safe</td>\n",
       "    </tr>\n",
       "    <tr>\n",
       "      <th>3</th>\n",
       "      <td>2011/08/10 09:47:48.230897</td>\n",
       "      <td>3.111769</td>\n",
       "      <td>tcp</td>\n",
       "      <td>147.32.86.89</td>\n",
       "      <td>4788</td>\n",
       "      <td>-&gt;</td>\n",
       "      <td>77.75.73.33</td>\n",
       "      <td>80</td>\n",
       "      <td>SR_A</td>\n",
       "      <td>0.0</td>\n",
       "      <td>0.0</td>\n",
       "      <td>3</td>\n",
       "      <td>182</td>\n",
       "      <td>122</td>\n",
       "      <td>Safe</td>\n",
       "    </tr>\n",
       "    <tr>\n",
       "      <th>4</th>\n",
       "      <td>2011/08/10 09:47:48.963351</td>\n",
       "      <td>3.083411</td>\n",
       "      <td>tcp</td>\n",
       "      <td>147.32.86.89</td>\n",
       "      <td>4850</td>\n",
       "      <td>-&gt;</td>\n",
       "      <td>77.75.73.33</td>\n",
       "      <td>80</td>\n",
       "      <td>SR_A</td>\n",
       "      <td>0.0</td>\n",
       "      <td>0.0</td>\n",
       "      <td>3</td>\n",
       "      <td>182</td>\n",
       "      <td>122</td>\n",
       "      <td>Safe</td>\n",
       "    </tr>\n",
       "    <tr>\n",
       "      <th>...</th>\n",
       "      <td>...</td>\n",
       "      <td>...</td>\n",
       "      <td>...</td>\n",
       "      <td>...</td>\n",
       "      <td>...</td>\n",
       "      <td>...</td>\n",
       "      <td>...</td>\n",
       "      <td>...</td>\n",
       "      <td>...</td>\n",
       "      <td>...</td>\n",
       "      <td>...</td>\n",
       "      <td>...</td>\n",
       "      <td>...</td>\n",
       "      <td>...</td>\n",
       "      <td>...</td>\n",
       "    </tr>\n",
       "    <tr>\n",
       "      <th>2824630</th>\n",
       "      <td>2011/08/10 15:54:07.352387</td>\n",
       "      <td>0.000330</td>\n",
       "      <td>udp</td>\n",
       "      <td>147.32.86.92</td>\n",
       "      <td>36363</td>\n",
       "      <td>&lt;-&gt;</td>\n",
       "      <td>147.32.80.9</td>\n",
       "      <td>53</td>\n",
       "      <td>CON</td>\n",
       "      <td>0.0</td>\n",
       "      <td>0.0</td>\n",
       "      <td>2</td>\n",
       "      <td>296</td>\n",
       "      <td>79</td>\n",
       "      <td>Safe</td>\n",
       "    </tr>\n",
       "    <tr>\n",
       "      <th>2824631</th>\n",
       "      <td>2011/08/10 15:54:07.352393</td>\n",
       "      <td>0.000393</td>\n",
       "      <td>udp</td>\n",
       "      <td>147.32.86.92</td>\n",
       "      <td>36363</td>\n",
       "      <td>&lt;-&gt;</td>\n",
       "      <td>147.32.80.9</td>\n",
       "      <td>53</td>\n",
       "      <td>CON</td>\n",
       "      <td>0.0</td>\n",
       "      <td>0.0</td>\n",
       "      <td>2</td>\n",
       "      <td>208</td>\n",
       "      <td>79</td>\n",
       "      <td>Safe</td>\n",
       "    </tr>\n",
       "    <tr>\n",
       "      <th>2824632</th>\n",
       "      <td>2011/08/10 15:54:07.353854</td>\n",
       "      <td>0.000935</td>\n",
       "      <td>udp</td>\n",
       "      <td>58.165.41.84</td>\n",
       "      <td>60122</td>\n",
       "      <td>&lt;-&gt;</td>\n",
       "      <td>147.32.84.229</td>\n",
       "      <td>13363</td>\n",
       "      <td>CON</td>\n",
       "      <td>0.0</td>\n",
       "      <td>0.0</td>\n",
       "      <td>2</td>\n",
       "      <td>539</td>\n",
       "      <td>75</td>\n",
       "      <td>Safe</td>\n",
       "    </tr>\n",
       "    <tr>\n",
       "      <th>2824634</th>\n",
       "      <td>2011/08/10 15:54:07.366830</td>\n",
       "      <td>0.002618</td>\n",
       "      <td>udp</td>\n",
       "      <td>93.79.39.15</td>\n",
       "      <td>10520</td>\n",
       "      <td>&lt;-&gt;</td>\n",
       "      <td>147.32.84.229</td>\n",
       "      <td>13363</td>\n",
       "      <td>CON</td>\n",
       "      <td>0.0</td>\n",
       "      <td>0.0</td>\n",
       "      <td>2</td>\n",
       "      <td>520</td>\n",
       "      <td>460</td>\n",
       "      <td>Safe</td>\n",
       "    </tr>\n",
       "    <tr>\n",
       "      <th>2824635</th>\n",
       "      <td>2011/08/10 15:54:07.368340</td>\n",
       "      <td>0.001122</td>\n",
       "      <td>udp</td>\n",
       "      <td>78.56.231.126</td>\n",
       "      <td>29419</td>\n",
       "      <td>&lt;-&gt;</td>\n",
       "      <td>147.32.84.229</td>\n",
       "      <td>13363</td>\n",
       "      <td>CON</td>\n",
       "      <td>0.0</td>\n",
       "      <td>0.0</td>\n",
       "      <td>2</td>\n",
       "      <td>137</td>\n",
       "      <td>77</td>\n",
       "      <td>Safe</td>\n",
       "    </tr>\n",
       "  </tbody>\n",
       "</table>\n",
       "<p>2619340 rows × 15 columns</p>\n",
       "</div>"
      ],
      "text/plain": [
       "                          StartTime       Dur Proto        SrcAddr  Sport  \\\n",
       "0        2011/08/10 09:46:59.607825  1.026539   tcp  94.44.127.113   1577   \n",
       "1        2011/08/10 09:47:00.634364  1.009595   tcp  94.44.127.113   1577   \n",
       "2        2011/08/10 09:47:48.185538  3.056586   tcp   147.32.86.89   4768   \n",
       "3        2011/08/10 09:47:48.230897  3.111769   tcp   147.32.86.89   4788   \n",
       "4        2011/08/10 09:47:48.963351  3.083411   tcp   147.32.86.89   4850   \n",
       "...                             ...       ...   ...            ...    ...   \n",
       "2824630  2011/08/10 15:54:07.352387  0.000330   udp   147.32.86.92  36363   \n",
       "2824631  2011/08/10 15:54:07.352393  0.000393   udp   147.32.86.92  36363   \n",
       "2824632  2011/08/10 15:54:07.353854  0.000935   udp   58.165.41.84  60122   \n",
       "2824634  2011/08/10 15:54:07.366830  0.002618   udp    93.79.39.15  10520   \n",
       "2824635  2011/08/10 15:54:07.368340  0.001122   udp  78.56.231.126  29419   \n",
       "\n",
       "           Dir        DstAddr  Dport State  sTos  dTos  TotPkts  TotBytes  \\\n",
       "0           ->   147.32.84.59   6881  S_RA   0.0   0.0        4       276   \n",
       "1           ->   147.32.84.59   6881  S_RA   0.0   0.0        4       276   \n",
       "2           ->    77.75.73.33     80  SR_A   0.0   0.0        3       182   \n",
       "3           ->    77.75.73.33     80  SR_A   0.0   0.0        3       182   \n",
       "4           ->    77.75.73.33     80  SR_A   0.0   0.0        3       182   \n",
       "...        ...            ...    ...   ...   ...   ...      ...       ...   \n",
       "2824630    <->    147.32.80.9     53   CON   0.0   0.0        2       296   \n",
       "2824631    <->    147.32.80.9     53   CON   0.0   0.0        2       208   \n",
       "2824632    <->  147.32.84.229  13363   CON   0.0   0.0        2       539   \n",
       "2824634    <->  147.32.84.229  13363   CON   0.0   0.0        2       520   \n",
       "2824635    <->  147.32.84.229  13363   CON   0.0   0.0        2       137   \n",
       "\n",
       "         SrcBytes Label  \n",
       "0             156  Safe  \n",
       "1             156  Safe  \n",
       "2             122  Safe  \n",
       "3             122  Safe  \n",
       "4             122  Safe  \n",
       "...           ...   ...  \n",
       "2824630        79  Safe  \n",
       "2824631        79  Safe  \n",
       "2824632        75  Safe  \n",
       "2824634       460  Safe  \n",
       "2824635        77  Safe  \n",
       "\n",
       "[2619340 rows x 15 columns]"
      ]
     },
     "execution_count": 34,
     "metadata": {},
     "output_type": "execute_result"
    }
   ],
   "source": [
    "df1"
   ]
  },
  {
   "cell_type": "code",
   "execution_count": null,
   "metadata": {},
   "outputs": [],
   "source": [
    "labels = le.fit_transform(df1['Label']).astype(int)  \n",
    "features = df1.drop(columns=['Label'])"
   ]
  },
  {
   "cell_type": "code",
   "execution_count": null,
   "metadata": {},
   "outputs": [],
   "source": [
    "numeric_features = ['Dur', 'sTos', 'dTos', 'TotPkts','TotBytes','SrcBytes']\n",
    "categorical_features = ['StartTime','Proto', 'SrcAddr','Sport','Dir','DstAddr','Dport','State']\n",
    "\n",
    "preprocessor = ColumnTransformer(\n",
    "    transformers=[\n",
    "        ('num', StandardScaler(), numeric_features),\n",
    "        ('cat', OneHotEncoder(handle_unknown='ignore'), categorical_features)\n",
    "    ])\n",
    "\n",
    "X = preprocessor.fit_transform(df1[numeric_features + categorical_features])\n",
    "y = labels\n",
    "\n",
    "X_train, X_test, y_train, y_test = train_test_split(X, y, test_size=0.2, stratify=y, random_state=42)"
   ]
  },
  {
   "cell_type": "code",
   "execution_count": 37,
   "metadata": {},
   "outputs": [
    {
     "name": "stdout",
     "output_type": "stream",
     "text": [
      "X_train shape: (2095472, 3338655), y_train shape: (2095472,)\n"
     ]
    }
   ],
   "source": [
    "print(f\"X_train shape: {X_train.shape}, y_train shape: {y_train.shape}\")\n",
    "from sklearn.impute import SimpleImputer\n",
    "imp = SimpleImputer(strategy='mean')\n",
    "X_train = imp.fit_transform(X_train)"
   ]
  },
  {
   "cell_type": "code",
   "execution_count": null,
   "metadata": {},
   "outputs": [
    {
     "data": {
      "text/html": [
       "<style>#sk-container-id-1 {\n",
       "  /* Definition of color scheme common for light and dark mode */\n",
       "  --sklearn-color-text: black;\n",
       "  --sklearn-color-line: gray;\n",
       "  /* Definition of color scheme for unfitted estimators */\n",
       "  --sklearn-color-unfitted-level-0: #fff5e6;\n",
       "  --sklearn-color-unfitted-level-1: #f6e4d2;\n",
       "  --sklearn-color-unfitted-level-2: #ffe0b3;\n",
       "  --sklearn-color-unfitted-level-3: chocolate;\n",
       "  /* Definition of color scheme for fitted estimators */\n",
       "  --sklearn-color-fitted-level-0: #f0f8ff;\n",
       "  --sklearn-color-fitted-level-1: #d4ebff;\n",
       "  --sklearn-color-fitted-level-2: #b3dbfd;\n",
       "  --sklearn-color-fitted-level-3: cornflowerblue;\n",
       "\n",
       "  /* Specific color for light theme */\n",
       "  --sklearn-color-text-on-default-background: var(--sg-text-color, var(--theme-code-foreground, var(--jp-content-font-color1, black)));\n",
       "  --sklearn-color-background: var(--sg-background-color, var(--theme-background, var(--jp-layout-color0, white)));\n",
       "  --sklearn-color-border-box: var(--sg-text-color, var(--theme-code-foreground, var(--jp-content-font-color1, black)));\n",
       "  --sklearn-color-icon: #696969;\n",
       "\n",
       "  @media (prefers-color-scheme: dark) {\n",
       "    /* Redefinition of color scheme for dark theme */\n",
       "    --sklearn-color-text-on-default-background: var(--sg-text-color, var(--theme-code-foreground, var(--jp-content-font-color1, white)));\n",
       "    --sklearn-color-background: var(--sg-background-color, var(--theme-background, var(--jp-layout-color0, #111)));\n",
       "    --sklearn-color-border-box: var(--sg-text-color, var(--theme-code-foreground, var(--jp-content-font-color1, white)));\n",
       "    --sklearn-color-icon: #878787;\n",
       "  }\n",
       "}\n",
       "\n",
       "#sk-container-id-1 {\n",
       "  color: var(--sklearn-color-text);\n",
       "}\n",
       "\n",
       "#sk-container-id-1 pre {\n",
       "  padding: 0;\n",
       "}\n",
       "\n",
       "#sk-container-id-1 input.sk-hidden--visually {\n",
       "  border: 0;\n",
       "  clip: rect(1px 1px 1px 1px);\n",
       "  clip: rect(1px, 1px, 1px, 1px);\n",
       "  height: 1px;\n",
       "  margin: -1px;\n",
       "  overflow: hidden;\n",
       "  padding: 0;\n",
       "  position: absolute;\n",
       "  width: 1px;\n",
       "}\n",
       "\n",
       "#sk-container-id-1 div.sk-dashed-wrapped {\n",
       "  border: 1px dashed var(--sklearn-color-line);\n",
       "  margin: 0 0.4em 0.5em 0.4em;\n",
       "  box-sizing: border-box;\n",
       "  padding-bottom: 0.4em;\n",
       "  background-color: var(--sklearn-color-background);\n",
       "}\n",
       "\n",
       "#sk-container-id-1 div.sk-container {\n",
       "  /* jupyter's `normalize.less` sets `[hidden] { display: none; }`\n",
       "     but bootstrap.min.css set `[hidden] { display: none !important; }`\n",
       "     so we also need the `!important` here to be able to override the\n",
       "     default hidden behavior on the sphinx rendered scikit-learn.org.\n",
       "     See: https://github.com/scikit-learn/scikit-learn/issues/21755 */\n",
       "  display: inline-block !important;\n",
       "  position: relative;\n",
       "}\n",
       "\n",
       "#sk-container-id-1 div.sk-text-repr-fallback {\n",
       "  display: none;\n",
       "}\n",
       "\n",
       "div.sk-parallel-item,\n",
       "div.sk-serial,\n",
       "div.sk-item {\n",
       "  /* draw centered vertical line to link estimators */\n",
       "  background-image: linear-gradient(var(--sklearn-color-text-on-default-background), var(--sklearn-color-text-on-default-background));\n",
       "  background-size: 2px 100%;\n",
       "  background-repeat: no-repeat;\n",
       "  background-position: center center;\n",
       "}\n",
       "\n",
       "/* Parallel-specific style estimator block */\n",
       "\n",
       "#sk-container-id-1 div.sk-parallel-item::after {\n",
       "  content: \"\";\n",
       "  width: 100%;\n",
       "  border-bottom: 2px solid var(--sklearn-color-text-on-default-background);\n",
       "  flex-grow: 1;\n",
       "}\n",
       "\n",
       "#sk-container-id-1 div.sk-parallel {\n",
       "  display: flex;\n",
       "  align-items: stretch;\n",
       "  justify-content: center;\n",
       "  background-color: var(--sklearn-color-background);\n",
       "  position: relative;\n",
       "}\n",
       "\n",
       "#sk-container-id-1 div.sk-parallel-item {\n",
       "  display: flex;\n",
       "  flex-direction: column;\n",
       "}\n",
       "\n",
       "#sk-container-id-1 div.sk-parallel-item:first-child::after {\n",
       "  align-self: flex-end;\n",
       "  width: 50%;\n",
       "}\n",
       "\n",
       "#sk-container-id-1 div.sk-parallel-item:last-child::after {\n",
       "  align-self: flex-start;\n",
       "  width: 50%;\n",
       "}\n",
       "\n",
       "#sk-container-id-1 div.sk-parallel-item:only-child::after {\n",
       "  width: 0;\n",
       "}\n",
       "\n",
       "/* Serial-specific style estimator block */\n",
       "\n",
       "#sk-container-id-1 div.sk-serial {\n",
       "  display: flex;\n",
       "  flex-direction: column;\n",
       "  align-items: center;\n",
       "  background-color: var(--sklearn-color-background);\n",
       "  padding-right: 1em;\n",
       "  padding-left: 1em;\n",
       "}\n",
       "\n",
       "\n",
       "/* Toggleable style: style used for estimator/Pipeline/ColumnTransformer box that is\n",
       "clickable and can be expanded/collapsed.\n",
       "- Pipeline and ColumnTransformer use this feature and define the default style\n",
       "- Estimators will overwrite some part of the style using the `sk-estimator` class\n",
       "*/\n",
       "\n",
       "/* Pipeline and ColumnTransformer style (default) */\n",
       "\n",
       "#sk-container-id-1 div.sk-toggleable {\n",
       "  /* Default theme specific background. It is overwritten whether we have a\n",
       "  specific estimator or a Pipeline/ColumnTransformer */\n",
       "  background-color: var(--sklearn-color-background);\n",
       "}\n",
       "\n",
       "/* Toggleable label */\n",
       "#sk-container-id-1 label.sk-toggleable__label {\n",
       "  cursor: pointer;\n",
       "  display: block;\n",
       "  width: 100%;\n",
       "  margin-bottom: 0;\n",
       "  padding: 0.5em;\n",
       "  box-sizing: border-box;\n",
       "  text-align: center;\n",
       "}\n",
       "\n",
       "#sk-container-id-1 label.sk-toggleable__label-arrow:before {\n",
       "  /* Arrow on the left of the label */\n",
       "  content: \"▸\";\n",
       "  float: left;\n",
       "  margin-right: 0.25em;\n",
       "  color: var(--sklearn-color-icon);\n",
       "}\n",
       "\n",
       "#sk-container-id-1 label.sk-toggleable__label-arrow:hover:before {\n",
       "  color: var(--sklearn-color-text);\n",
       "}\n",
       "\n",
       "/* Toggleable content - dropdown */\n",
       "\n",
       "#sk-container-id-1 div.sk-toggleable__content {\n",
       "  max-height: 0;\n",
       "  max-width: 0;\n",
       "  overflow: hidden;\n",
       "  text-align: left;\n",
       "  /* unfitted */\n",
       "  background-color: var(--sklearn-color-unfitted-level-0);\n",
       "}\n",
       "\n",
       "#sk-container-id-1 div.sk-toggleable__content.fitted {\n",
       "  /* fitted */\n",
       "  background-color: var(--sklearn-color-fitted-level-0);\n",
       "}\n",
       "\n",
       "#sk-container-id-1 div.sk-toggleable__content pre {\n",
       "  margin: 0.2em;\n",
       "  border-radius: 0.25em;\n",
       "  color: var(--sklearn-color-text);\n",
       "  /* unfitted */\n",
       "  background-color: var(--sklearn-color-unfitted-level-0);\n",
       "}\n",
       "\n",
       "#sk-container-id-1 div.sk-toggleable__content.fitted pre {\n",
       "  /* unfitted */\n",
       "  background-color: var(--sklearn-color-fitted-level-0);\n",
       "}\n",
       "\n",
       "#sk-container-id-1 input.sk-toggleable__control:checked~div.sk-toggleable__content {\n",
       "  /* Expand drop-down */\n",
       "  max-height: 200px;\n",
       "  max-width: 100%;\n",
       "  overflow: auto;\n",
       "}\n",
       "\n",
       "#sk-container-id-1 input.sk-toggleable__control:checked~label.sk-toggleable__label-arrow:before {\n",
       "  content: \"▾\";\n",
       "}\n",
       "\n",
       "/* Pipeline/ColumnTransformer-specific style */\n",
       "\n",
       "#sk-container-id-1 div.sk-label input.sk-toggleable__control:checked~label.sk-toggleable__label {\n",
       "  color: var(--sklearn-color-text);\n",
       "  background-color: var(--sklearn-color-unfitted-level-2);\n",
       "}\n",
       "\n",
       "#sk-container-id-1 div.sk-label.fitted input.sk-toggleable__control:checked~label.sk-toggleable__label {\n",
       "  background-color: var(--sklearn-color-fitted-level-2);\n",
       "}\n",
       "\n",
       "/* Estimator-specific style */\n",
       "\n",
       "/* Colorize estimator box */\n",
       "#sk-container-id-1 div.sk-estimator input.sk-toggleable__control:checked~label.sk-toggleable__label {\n",
       "  /* unfitted */\n",
       "  background-color: var(--sklearn-color-unfitted-level-2);\n",
       "}\n",
       "\n",
       "#sk-container-id-1 div.sk-estimator.fitted input.sk-toggleable__control:checked~label.sk-toggleable__label {\n",
       "  /* fitted */\n",
       "  background-color: var(--sklearn-color-fitted-level-2);\n",
       "}\n",
       "\n",
       "#sk-container-id-1 div.sk-label label.sk-toggleable__label,\n",
       "#sk-container-id-1 div.sk-label label {\n",
       "  /* The background is the default theme color */\n",
       "  color: var(--sklearn-color-text-on-default-background);\n",
       "}\n",
       "\n",
       "/* On hover, darken the color of the background */\n",
       "#sk-container-id-1 div.sk-label:hover label.sk-toggleable__label {\n",
       "  color: var(--sklearn-color-text);\n",
       "  background-color: var(--sklearn-color-unfitted-level-2);\n",
       "}\n",
       "\n",
       "/* Label box, darken color on hover, fitted */\n",
       "#sk-container-id-1 div.sk-label.fitted:hover label.sk-toggleable__label.fitted {\n",
       "  color: var(--sklearn-color-text);\n",
       "  background-color: var(--sklearn-color-fitted-level-2);\n",
       "}\n",
       "\n",
       "/* Estimator label */\n",
       "\n",
       "#sk-container-id-1 div.sk-label label {\n",
       "  font-family: monospace;\n",
       "  font-weight: bold;\n",
       "  display: inline-block;\n",
       "  line-height: 1.2em;\n",
       "}\n",
       "\n",
       "#sk-container-id-1 div.sk-label-container {\n",
       "  text-align: center;\n",
       "}\n",
       "\n",
       "/* Estimator-specific */\n",
       "#sk-container-id-1 div.sk-estimator {\n",
       "  font-family: monospace;\n",
       "  border: 1px dotted var(--sklearn-color-border-box);\n",
       "  border-radius: 0.25em;\n",
       "  box-sizing: border-box;\n",
       "  margin-bottom: 0.5em;\n",
       "  /* unfitted */\n",
       "  background-color: var(--sklearn-color-unfitted-level-0);\n",
       "}\n",
       "\n",
       "#sk-container-id-1 div.sk-estimator.fitted {\n",
       "  /* fitted */\n",
       "  background-color: var(--sklearn-color-fitted-level-0);\n",
       "}\n",
       "\n",
       "/* on hover */\n",
       "#sk-container-id-1 div.sk-estimator:hover {\n",
       "  /* unfitted */\n",
       "  background-color: var(--sklearn-color-unfitted-level-2);\n",
       "}\n",
       "\n",
       "#sk-container-id-1 div.sk-estimator.fitted:hover {\n",
       "  /* fitted */\n",
       "  background-color: var(--sklearn-color-fitted-level-2);\n",
       "}\n",
       "\n",
       "/* Specification for estimator info (e.g. \"i\" and \"?\") */\n",
       "\n",
       "/* Common style for \"i\" and \"?\" */\n",
       "\n",
       ".sk-estimator-doc-link,\n",
       "a:link.sk-estimator-doc-link,\n",
       "a:visited.sk-estimator-doc-link {\n",
       "  float: right;\n",
       "  font-size: smaller;\n",
       "  line-height: 1em;\n",
       "  font-family: monospace;\n",
       "  background-color: var(--sklearn-color-background);\n",
       "  border-radius: 1em;\n",
       "  height: 1em;\n",
       "  width: 1em;\n",
       "  text-decoration: none !important;\n",
       "  margin-left: 1ex;\n",
       "  /* unfitted */\n",
       "  border: var(--sklearn-color-unfitted-level-1) 1pt solid;\n",
       "  color: var(--sklearn-color-unfitted-level-1);\n",
       "}\n",
       "\n",
       ".sk-estimator-doc-link.fitted,\n",
       "a:link.sk-estimator-doc-link.fitted,\n",
       "a:visited.sk-estimator-doc-link.fitted {\n",
       "  /* fitted */\n",
       "  border: var(--sklearn-color-fitted-level-1) 1pt solid;\n",
       "  color: var(--sklearn-color-fitted-level-1);\n",
       "}\n",
       "\n",
       "/* On hover */\n",
       "div.sk-estimator:hover .sk-estimator-doc-link:hover,\n",
       ".sk-estimator-doc-link:hover,\n",
       "div.sk-label-container:hover .sk-estimator-doc-link:hover,\n",
       ".sk-estimator-doc-link:hover {\n",
       "  /* unfitted */\n",
       "  background-color: var(--sklearn-color-unfitted-level-3);\n",
       "  color: var(--sklearn-color-background);\n",
       "  text-decoration: none;\n",
       "}\n",
       "\n",
       "div.sk-estimator.fitted:hover .sk-estimator-doc-link.fitted:hover,\n",
       ".sk-estimator-doc-link.fitted:hover,\n",
       "div.sk-label-container:hover .sk-estimator-doc-link.fitted:hover,\n",
       ".sk-estimator-doc-link.fitted:hover {\n",
       "  /* fitted */\n",
       "  background-color: var(--sklearn-color-fitted-level-3);\n",
       "  color: var(--sklearn-color-background);\n",
       "  text-decoration: none;\n",
       "}\n",
       "\n",
       "/* Span, style for the box shown on hovering the info icon */\n",
       ".sk-estimator-doc-link span {\n",
       "  display: none;\n",
       "  z-index: 9999;\n",
       "  position: relative;\n",
       "  font-weight: normal;\n",
       "  right: .2ex;\n",
       "  padding: .5ex;\n",
       "  margin: .5ex;\n",
       "  width: min-content;\n",
       "  min-width: 20ex;\n",
       "  max-width: 50ex;\n",
       "  color: var(--sklearn-color-text);\n",
       "  box-shadow: 2pt 2pt 4pt #999;\n",
       "  /* unfitted */\n",
       "  background: var(--sklearn-color-unfitted-level-0);\n",
       "  border: .5pt solid var(--sklearn-color-unfitted-level-3);\n",
       "}\n",
       "\n",
       ".sk-estimator-doc-link.fitted span {\n",
       "  /* fitted */\n",
       "  background: var(--sklearn-color-fitted-level-0);\n",
       "  border: var(--sklearn-color-fitted-level-3);\n",
       "}\n",
       "\n",
       ".sk-estimator-doc-link:hover span {\n",
       "  display: block;\n",
       "}\n",
       "\n",
       "/* \"?\"-specific style due to the `<a>` HTML tag */\n",
       "\n",
       "#sk-container-id-1 a.estimator_doc_link {\n",
       "  float: right;\n",
       "  font-size: 1rem;\n",
       "  line-height: 1em;\n",
       "  font-family: monospace;\n",
       "  background-color: var(--sklearn-color-background);\n",
       "  border-radius: 1rem;\n",
       "  height: 1rem;\n",
       "  width: 1rem;\n",
       "  text-decoration: none;\n",
       "  /* unfitted */\n",
       "  color: var(--sklearn-color-unfitted-level-1);\n",
       "  border: var(--sklearn-color-unfitted-level-1) 1pt solid;\n",
       "}\n",
       "\n",
       "#sk-container-id-1 a.estimator_doc_link.fitted {\n",
       "  /* fitted */\n",
       "  border: var(--sklearn-color-fitted-level-1) 1pt solid;\n",
       "  color: var(--sklearn-color-fitted-level-1);\n",
       "}\n",
       "\n",
       "/* On hover */\n",
       "#sk-container-id-1 a.estimator_doc_link:hover {\n",
       "  /* unfitted */\n",
       "  background-color: var(--sklearn-color-unfitted-level-3);\n",
       "  color: var(--sklearn-color-background);\n",
       "  text-decoration: none;\n",
       "}\n",
       "\n",
       "#sk-container-id-1 a.estimator_doc_link.fitted:hover {\n",
       "  /* fitted */\n",
       "  background-color: var(--sklearn-color-fitted-level-3);\n",
       "}\n",
       "</style><div id=\"sk-container-id-1\" class=\"sk-top-container\"><div class=\"sk-text-repr-fallback\"><pre>RandomForestClassifier(max_depth=5, n_estimators=50, n_jobs=-1, random_state=42)</pre><b>In a Jupyter environment, please rerun this cell to show the HTML representation or trust the notebook. <br />On GitHub, the HTML representation is unable to render, please try loading this page with nbviewer.org.</b></div><div class=\"sk-container\" hidden><div class=\"sk-item\"><div class=\"sk-estimator fitted sk-toggleable\"><input class=\"sk-toggleable__control sk-hidden--visually\" id=\"sk-estimator-id-1\" type=\"checkbox\" checked><label for=\"sk-estimator-id-1\" class=\"sk-toggleable__label fitted sk-toggleable__label-arrow fitted\">&nbsp;&nbsp;RandomForestClassifier<a class=\"sk-estimator-doc-link fitted\" rel=\"noreferrer\" target=\"_blank\" href=\"https://scikit-learn.org/1.5/modules/generated/sklearn.ensemble.RandomForestClassifier.html\">?<span>Documentation for RandomForestClassifier</span></a><span class=\"sk-estimator-doc-link fitted\">i<span>Fitted</span></span></label><div class=\"sk-toggleable__content fitted\"><pre>RandomForestClassifier(max_depth=5, n_estimators=50, n_jobs=-1, random_state=42)</pre></div> </div></div></div></div>"
      ],
      "text/plain": [
       "RandomForestClassifier(max_depth=5, n_estimators=50, n_jobs=-1, random_state=42)"
      ]
     },
     "execution_count": 38,
     "metadata": {},
     "output_type": "execute_result"
    }
   ],
   "source": [
    "rf_model = RandomForestClassifier(\n",
    "    n_estimators=50,           \n",
    "    max_depth=5,               \n",
    "    n_jobs=-1,                 \n",
    "    random_state=42\n",
    ")\n",
    "\n",
    "rf_model.fit(X_train, y_train)"
   ]
  },
  {
   "cell_type": "code",
   "execution_count": null,
   "metadata": {},
   "outputs": [
    {
     "name": "stderr",
     "output_type": "stream",
     "text": [
      "c:\\Users\\espac\\miniconda3\\envs\\islp\\Lib\\site-packages\\sklearn\\metrics\\_classification.py:1517: UndefinedMetricWarning: Precision is ill-defined and being set to 0.0 in labels with no predicted samples. Use `zero_division` parameter to control this behavior.\n",
      "  _warn_prf(average, modifier, f\"{metric.capitalize()} is\", len(result))\n",
      "c:\\Users\\espac\\miniconda3\\envs\\islp\\Lib\\site-packages\\sklearn\\metrics\\_classification.py:1517: UndefinedMetricWarning: Precision is ill-defined and being set to 0.0 in labels with no predicted samples. Use `zero_division` parameter to control this behavior.\n",
      "  _warn_prf(average, modifier, f\"{metric.capitalize()} is\", len(result))\n",
      "c:\\Users\\espac\\miniconda3\\envs\\islp\\Lib\\site-packages\\sklearn\\metrics\\_classification.py:1517: UndefinedMetricWarning: Precision is ill-defined and being set to 0.0 in labels with no predicted samples. Use `zero_division` parameter to control this behavior.\n",
      "  _warn_prf(average, modifier, f\"{metric.capitalize()} is\", len(result))\n"
     ]
    },
    {
     "name": "stdout",
     "output_type": "stream",
     "text": [
      "              precision    recall  f1-score   support\n",
      "\n",
      "      Botnet       0.00      0.00      0.00      5625\n",
      "        Safe       0.99      1.00      0.99    518243\n",
      "\n",
      "    accuracy                           0.99    523868\n",
      "   macro avg       0.49      0.50      0.50    523868\n",
      "weighted avg       0.98      0.99      0.98    523868\n",
      "\n",
      "ROC-AUC: 0.5882\n"
     ]
    },
    {
     "data": {
      "image/png": "[encoded data removed]",
      "text/plain": [
       "<Figure size 640x480 with 2 Axes>"
      ]
     },
     "metadata": {},
     "output_type": "display_data"
    }
   ],
   "source": [
    "imputer = SimpleImputer(strategy='mean')  # or 'median'\n",
    "X_test = imputer.fit_transform(X_test)\n",
    "y_pred = rf_model.predict(X_test)\n",
    "y_proba = rf_model.predict_proba(X_test)[:, 1]  # Probabilities for ROC-AUC\n",
    "\n",
    "print(classification_report(y_test, y_pred, target_names=['Botnet', 'Safe']))\n",
    "print(f\"ROC-AUC: {roc_auc_score(y_test, y_proba):.4f}\")\n",
    "\n",
    "from sklearn.metrics import confusion_matrix\n",
    "import seaborn as sns\n",
    "import matplotlib.pyplot as plt\n",
    "\n",
    "cm = confusion_matrix(y_test, y_pred)\n",
    "cm_display = ConfusionMatrixDisplay(confusion_matrix = cm, display_labels=[\"Botnet\", \"Safe\"])\n",
    "cm_display.plot()\n",
    "plt.title('Confusion Matrix (Random Forest)')\n",
    "plt.show()"
   ]
  },
  {
   "cell_type": "code",
   "execution_count": null,
   "metadata": {},
   "outputs": [
    {
     "data": {
      "text/html": [
       "<style>#sk-container-id-2 {\n",
       "  /* Definition of color scheme common for light and dark mode */\n",
       "  --sklearn-color-text: black;\n",
       "  --sklearn-color-line: gray;\n",
       "  /* Definition of color scheme for unfitted estimators */\n",
       "  --sklearn-color-unfitted-level-0: #fff5e6;\n",
       "  --sklearn-color-unfitted-level-1: #f6e4d2;\n",
       "  --sklearn-color-unfitted-level-2: #ffe0b3;\n",
       "  --sklearn-color-unfitted-level-3: chocolate;\n",
       "  /* Definition of color scheme for fitted estimators */\n",
       "  --sklearn-color-fitted-level-0: #f0f8ff;\n",
       "  --sklearn-color-fitted-level-1: #d4ebff;\n",
       "  --sklearn-color-fitted-level-2: #b3dbfd;\n",
       "  --sklearn-color-fitted-level-3: cornflowerblue;\n",
       "\n",
       "  /* Specific color for light theme */\n",
       "  --sklearn-color-text-on-default-background: var(--sg-text-color, var(--theme-code-foreground, var(--jp-content-font-color1, black)));\n",
       "  --sklearn-color-background: var(--sg-background-color, var(--theme-background, var(--jp-layout-color0, white)));\n",
       "  --sklearn-color-border-box: var(--sg-text-color, var(--theme-code-foreground, var(--jp-content-font-color1, black)));\n",
       "  --sklearn-color-icon: #696969;\n",
       "\n",
       "  @media (prefers-color-scheme: dark) {\n",
       "    /* Redefinition of color scheme for dark theme */\n",
       "    --sklearn-color-text-on-default-background: var(--sg-text-color, var(--theme-code-foreground, var(--jp-content-font-color1, white)));\n",
       "    --sklearn-color-background: var(--sg-background-color, var(--theme-background, var(--jp-layout-color0, #111)));\n",
       "    --sklearn-color-border-box: var(--sg-text-color, var(--theme-code-foreground, var(--jp-content-font-color1, white)));\n",
       "    --sklearn-color-icon: #878787;\n",
       "  }\n",
       "}\n",
       "\n",
       "#sk-container-id-2 {\n",
       "  color: var(--sklearn-color-text);\n",
       "}\n",
       "\n",
       "#sk-container-id-2 pre {\n",
       "  padding: 0;\n",
       "}\n",
       "\n",
       "#sk-container-id-2 input.sk-hidden--visually {\n",
       "  border: 0;\n",
       "  clip: rect(1px 1px 1px 1px);\n",
       "  clip: rect(1px, 1px, 1px, 1px);\n",
       "  height: 1px;\n",
       "  margin: -1px;\n",
       "  overflow: hidden;\n",
       "  padding: 0;\n",
       "  position: absolute;\n",
       "  width: 1px;\n",
       "}\n",
       "\n",
       "#sk-container-id-2 div.sk-dashed-wrapped {\n",
       "  border: 1px dashed var(--sklearn-color-line);\n",
       "  margin: 0 0.4em 0.5em 0.4em;\n",
       "  box-sizing: border-box;\n",
       "  padding-bottom: 0.4em;\n",
       "  background-color: var(--sklearn-color-background);\n",
       "}\n",
       "\n",
       "#sk-container-id-2 div.sk-container {\n",
       "  /* jupyter's `normalize.less` sets `[hidden] { display: none; }`\n",
       "     but bootstrap.min.css set `[hidden] { display: none !important; }`\n",
       "     so we also need the `!important` here to be able to override the\n",
       "     default hidden behavior on the sphinx rendered scikit-learn.org.\n",
       "     See: https://github.com/scikit-learn/scikit-learn/issues/21755 */\n",
       "  display: inline-block !important;\n",
       "  position: relative;\n",
       "}\n",
       "\n",
       "#sk-container-id-2 div.sk-text-repr-fallback {\n",
       "  display: none;\n",
       "}\n",
       "\n",
       "div.sk-parallel-item,\n",
       "div.sk-serial,\n",
       "div.sk-item {\n",
       "  /* draw centered vertical line to link estimators */\n",
       "  background-image: linear-gradient(var(--sklearn-color-text-on-default-background), var(--sklearn-color-text-on-default-background));\n",
       "  background-size: 2px 100%;\n",
       "  background-repeat: no-repeat;\n",
       "  background-position: center center;\n",
       "}\n",
       "\n",
       "/* Parallel-specific style estimator block */\n",
       "\n",
       "#sk-container-id-2 div.sk-parallel-item::after {\n",
       "  content: \"\";\n",
       "  width: 100%;\n",
       "  border-bottom: 2px solid var(--sklearn-color-text-on-default-background);\n",
       "  flex-grow: 1;\n",
       "}\n",
       "\n",
       "#sk-container-id-2 div.sk-parallel {\n",
       "  display: flex;\n",
       "  align-items: stretch;\n",
       "  justify-content: center;\n",
       "  background-color: var(--sklearn-color-background);\n",
       "  position: relative;\n",
       "}\n",
       "\n",
       "#sk-container-id-2 div.sk-parallel-item {\n",
       "  display: flex;\n",
       "  flex-direction: column;\n",
       "}\n",
       "\n",
       "#sk-container-id-2 div.sk-parallel-item:first-child::after {\n",
       "  align-self: flex-end;\n",
       "  width: 50%;\n",
       "}\n",
       "\n",
       "#sk-container-id-2 div.sk-parallel-item:last-child::after {\n",
       "  align-self: flex-start;\n",
       "  width: 50%;\n",
       "}\n",
       "\n",
       "#sk-container-id-2 div.sk-parallel-item:only-child::after {\n",
       "  width: 0;\n",
       "}\n",
       "\n",
       "/* Serial-specific style estimator block */\n",
       "\n",
       "#sk-container-id-2 div.sk-serial {\n",
       "  display: flex;\n",
       "  flex-direction: column;\n",
       "  align-items: center;\n",
       "  background-color: var(--sklearn-color-background);\n",
       "  padding-right: 1em;\n",
       "  padding-left: 1em;\n",
       "}\n",
       "\n",
       "\n",
       "/* Toggleable style: style used for estimator/Pipeline/ColumnTransformer box that is\n",
       "clickable and can be expanded/collapsed.\n",
       "- Pipeline and ColumnTransformer use this feature and define the default style\n",
       "- Estimators will overwrite some part of the style using the `sk-estimator` class\n",
       "*/\n",
       "\n",
       "/* Pipeline and ColumnTransformer style (default) */\n",
       "\n",
       "#sk-container-id-2 div.sk-toggleable {\n",
       "  /* Default theme specific background. It is overwritten whether we have a\n",
       "  specific estimator or a Pipeline/ColumnTransformer */\n",
       "  background-color: var(--sklearn-color-background);\n",
       "}\n",
       "\n",
       "/* Toggleable label */\n",
       "#sk-container-id-2 label.sk-toggleable__label {\n",
       "  cursor: pointer;\n",
       "  display: block;\n",
       "  width: 100%;\n",
       "  margin-bottom: 0;\n",
       "  padding: 0.5em;\n",
       "  box-sizing: border-box;\n",
       "  text-align: center;\n",
       "}\n",
       "\n",
       "#sk-container-id-2 label.sk-toggleable__label-arrow:before {\n",
       "  /* Arrow on the left of the label */\n",
       "  content: \"▸\";\n",
       "  float: left;\n",
       "  margin-right: 0.25em;\n",
       "  color: var(--sklearn-color-icon);\n",
       "}\n",
       "\n",
       "#sk-container-id-2 label.sk-toggleable__label-arrow:hover:before {\n",
       "  color: var(--sklearn-color-text);\n",
       "}\n",
       "\n",
       "/* Toggleable content - dropdown */\n",
       "\n",
       "#sk-container-id-2 div.sk-toggleable__content {\n",
       "  max-height: 0;\n",
       "  max-width: 0;\n",
       "  overflow: hidden;\n",
       "  text-align: left;\n",
       "  /* unfitted */\n",
       "  background-color: var(--sklearn-color-unfitted-level-0);\n",
       "}\n",
       "\n",
       "#sk-container-id-2 div.sk-toggleable__content.fitted {\n",
       "  /* fitted */\n",
       "  background-color: var(--sklearn-color-fitted-level-0);\n",
       "}\n",
       "\n",
       "#sk-container-id-2 div.sk-toggleable__content pre {\n",
       "  margin: 0.2em;\n",
       "  border-radius: 0.25em;\n",
       "  color: var(--sklearn-color-text);\n",
       "  /* unfitted */\n",
       "  background-color: var(--sklearn-color-unfitted-level-0);\n",
       "}\n",
       "\n",
       "#sk-container-id-2 div.sk-toggleable__content.fitted pre {\n",
       "  /* unfitted */\n",
       "  background-color: var(--sklearn-color-fitted-level-0);\n",
       "}\n",
       "\n",
       "#sk-container-id-2 input.sk-toggleable__control:checked~div.sk-toggleable__content {\n",
       "  /* Expand drop-down */\n",
       "  max-height: 200px;\n",
       "  max-width: 100%;\n",
       "  overflow: auto;\n",
       "}\n",
       "\n",
       "#sk-container-id-2 input.sk-toggleable__control:checked~label.sk-toggleable__label-arrow:before {\n",
       "  content: \"▾\";\n",
       "}\n",
       "\n",
       "/* Pipeline/ColumnTransformer-specific style */\n",
       "\n",
       "#sk-container-id-2 div.sk-label input.sk-toggleable__control:checked~label.sk-toggleable__label {\n",
       "  color: var(--sklearn-color-text);\n",
       "  background-color: var(--sklearn-color-unfitted-level-2);\n",
       "}\n",
       "\n",
       "#sk-container-id-2 div.sk-label.fitted input.sk-toggleable__control:checked~label.sk-toggleable__label {\n",
       "  background-color: var(--sklearn-color-fitted-level-2);\n",
       "}\n",
       "\n",
       "/* Estimator-specific style */\n",
       "\n",
       "/* Colorize estimator box */\n",
       "#sk-container-id-2 div.sk-estimator input.sk-toggleable__control:checked~label.sk-toggleable__label {\n",
       "  /* unfitted */\n",
       "  background-color: var(--sklearn-color-unfitted-level-2);\n",
       "}\n",
       "\n",
       "#sk-container-id-2 div.sk-estimator.fitted input.sk-toggleable__control:checked~label.sk-toggleable__label {\n",
       "  /* fitted */\n",
       "  background-color: var(--sklearn-color-fitted-level-2);\n",
       "}\n",
       "\n",
       "#sk-container-id-2 div.sk-label label.sk-toggleable__label,\n",
       "#sk-container-id-2 div.sk-label label {\n",
       "  /* The background is the default theme color */\n",
       "  color: var(--sklearn-color-text-on-default-background);\n",
       "}\n",
       "\n",
       "/* On hover, darken the color of the background */\n",
       "#sk-container-id-2 div.sk-label:hover label.sk-toggleable__label {\n",
       "  color: var(--sklearn-color-text);\n",
       "  background-color: var(--sklearn-color-unfitted-level-2);\n",
       "}\n",
       "\n",
       "/* Label box, darken color on hover, fitted */\n",
       "#sk-container-id-2 div.sk-label.fitted:hover label.sk-toggleable__label.fitted {\n",
       "  color: var(--sklearn-color-text);\n",
       "  background-color: var(--sklearn-color-fitted-level-2);\n",
       "}\n",
       "\n",
       "/* Estimator label */\n",
       "\n",
       "#sk-container-id-2 div.sk-label label {\n",
       "  font-family: monospace;\n",
       "  font-weight: bold;\n",
       "  display: inline-block;\n",
       "  line-height: 1.2em;\n",
       "}\n",
       "\n",
       "#sk-container-id-2 div.sk-label-container {\n",
       "  text-align: center;\n",
       "}\n",
       "\n",
       "/* Estimator-specific */\n",
       "#sk-container-id-2 div.sk-estimator {\n",
       "  font-family: monospace;\n",
       "  border: 1px dotted var(--sklearn-color-border-box);\n",
       "  border-radius: 0.25em;\n",
       "  box-sizing: border-box;\n",
       "  margin-bottom: 0.5em;\n",
       "  /* unfitted */\n",
       "  background-color: var(--sklearn-color-unfitted-level-0);\n",
       "}\n",
       "\n",
       "#sk-container-id-2 div.sk-estimator.fitted {\n",
       "  /* fitted */\n",
       "  background-color: var(--sklearn-color-fitted-level-0);\n",
       "}\n",
       "\n",
       "/* on hover */\n",
       "#sk-container-id-2 div.sk-estimator:hover {\n",
       "  /* unfitted */\n",
       "  background-color: var(--sklearn-color-unfitted-level-2);\n",
       "}\n",
       "\n",
       "#sk-container-id-2 div.sk-estimator.fitted:hover {\n",
       "  /* fitted */\n",
       "  background-color: var(--sklearn-color-fitted-level-2);\n",
       "}\n",
       "\n",
       "/* Specification for estimator info (e.g. \"i\" and \"?\") */\n",
       "\n",
       "/* Common style for \"i\" and \"?\" */\n",
       "\n",
       ".sk-estimator-doc-link,\n",
       "a:link.sk-estimator-doc-link,\n",
       "a:visited.sk-estimator-doc-link {\n",
       "  float: right;\n",
       "  font-size: smaller;\n",
       "  line-height: 1em;\n",
       "  font-family: monospace;\n",
       "  background-color: var(--sklearn-color-background);\n",
       "  border-radius: 1em;\n",
       "  height: 1em;\n",
       "  width: 1em;\n",
       "  text-decoration: none !important;\n",
       "  margin-left: 1ex;\n",
       "  /* unfitted */\n",
       "  border: var(--sklearn-color-unfitted-level-1) 1pt solid;\n",
       "  color: var(--sklearn-color-unfitted-level-1);\n",
       "}\n",
       "\n",
       ".sk-estimator-doc-link.fitted,\n",
       "a:link.sk-estimator-doc-link.fitted,\n",
       "a:visited.sk-estimator-doc-link.fitted {\n",
       "  /* fitted */\n",
       "  border: var(--sklearn-color-fitted-level-1) 1pt solid;\n",
       "  color: var(--sklearn-color-fitted-level-1);\n",
       "}\n",
       "\n",
       "/* On hover */\n",
       "div.sk-estimator:hover .sk-estimator-doc-link:hover,\n",
       ".sk-estimator-doc-link:hover,\n",
       "div.sk-label-container:hover .sk-estimator-doc-link:hover,\n",
       ".sk-estimator-doc-link:hover {\n",
       "  /* unfitted */\n",
       "  background-color: var(--sklearn-color-unfitted-level-3);\n",
       "  color: var(--sklearn-color-background);\n",
       "  text-decoration: none;\n",
       "}\n",
       "\n",
       "div.sk-estimator.fitted:hover .sk-estimator-doc-link.fitted:hover,\n",
       ".sk-estimator-doc-link.fitted:hover,\n",
       "div.sk-label-container:hover .sk-estimator-doc-link.fitted:hover,\n",
       ".sk-estimator-doc-link.fitted:hover {\n",
       "  /* fitted */\n",
       "  background-color: var(--sklearn-color-fitted-level-3);\n",
       "  color: var(--sklearn-color-background);\n",
       "  text-decoration: none;\n",
       "}\n",
       "\n",
       "/* Span, style for the box shown on hovering the info icon */\n",
       ".sk-estimator-doc-link span {\n",
       "  display: none;\n",
       "  z-index: 9999;\n",
       "  position: relative;\n",
       "  font-weight: normal;\n",
       "  right: .2ex;\n",
       "  padding: .5ex;\n",
       "  margin: .5ex;\n",
       "  width: min-content;\n",
       "  min-width: 20ex;\n",
       "  max-width: 50ex;\n",
       "  color: var(--sklearn-color-text);\n",
       "  box-shadow: 2pt 2pt 4pt #999;\n",
       "  /* unfitted */\n",
       "  background: var(--sklearn-color-unfitted-level-0);\n",
       "  border: .5pt solid var(--sklearn-color-unfitted-level-3);\n",
       "}\n",
       "\n",
       ".sk-estimator-doc-link.fitted span {\n",
       "  /* fitted */\n",
       "  background: var(--sklearn-color-fitted-level-0);\n",
       "  border: var(--sklearn-color-fitted-level-3);\n",
       "}\n",
       "\n",
       ".sk-estimator-doc-link:hover span {\n",
       "  display: block;\n",
       "}\n",
       "\n",
       "/* \"?\"-specific style due to the `<a>` HTML tag */\n",
       "\n",
       "#sk-container-id-2 a.estimator_doc_link {\n",
       "  float: right;\n",
       "  font-size: 1rem;\n",
       "  line-height: 1em;\n",
       "  font-family: monospace;\n",
       "  background-color: var(--sklearn-color-background);\n",
       "  border-radius: 1rem;\n",
       "  height: 1rem;\n",
       "  width: 1rem;\n",
       "  text-decoration: none;\n",
       "  /* unfitted */\n",
       "  color: var(--sklearn-color-unfitted-level-1);\n",
       "  border: var(--sklearn-color-unfitted-level-1) 1pt solid;\n",
       "}\n",
       "\n",
       "#sk-container-id-2 a.estimator_doc_link.fitted {\n",
       "  /* fitted */\n",
       "  border: var(--sklearn-color-fitted-level-1) 1pt solid;\n",
       "  color: var(--sklearn-color-fitted-level-1);\n",
       "}\n",
       "\n",
       "/* On hover */\n",
       "#sk-container-id-2 a.estimator_doc_link:hover {\n",
       "  /* unfitted */\n",
       "  background-color: var(--sklearn-color-unfitted-level-3);\n",
       "  color: var(--sklearn-color-background);\n",
       "  text-decoration: none;\n",
       "}\n",
       "\n",
       "#sk-container-id-2 a.estimator_doc_link.fitted:hover {\n",
       "  /* fitted */\n",
       "  background-color: var(--sklearn-color-fitted-level-3);\n",
       "}\n",
       "</style><div id=\"sk-container-id-2\" class=\"sk-top-container\"><div class=\"sk-text-repr-fallback\"><pre>RandomForestClassifier(class_weight=&#x27;balanced&#x27;, max_depth=5, n_estimators=50,\n",
       "                       n_jobs=-1, random_state=42)</pre><b>In a Jupyter environment, please rerun this cell to show the HTML representation or trust the notebook. <br />On GitHub, the HTML representation is unable to render, please try loading this page with nbviewer.org.</b></div><div class=\"sk-container\" hidden><div class=\"sk-item\"><div class=\"sk-estimator fitted sk-toggleable\"><input class=\"sk-toggleable__control sk-hidden--visually\" id=\"sk-estimator-id-2\" type=\"checkbox\" checked><label for=\"sk-estimator-id-2\" class=\"sk-toggleable__label fitted sk-toggleable__label-arrow fitted\">&nbsp;&nbsp;RandomForestClassifier<a class=\"sk-estimator-doc-link fitted\" rel=\"noreferrer\" target=\"_blank\" href=\"https://scikit-learn.org/1.5/modules/generated/sklearn.ensemble.RandomForestClassifier.html\">?<span>Documentation for RandomForestClassifier</span></a><span class=\"sk-estimator-doc-link fitted\">i<span>Fitted</span></span></label><div class=\"sk-toggleable__content fitted\"><pre>RandomForestClassifier(class_weight=&#x27;balanced&#x27;, max_depth=5, n_estimators=50,\n",
       "                       n_jobs=-1, random_state=42)</pre></div> </div></div></div></div>"
      ],
      "text/plain": [
       "RandomForestClassifier(class_weight='balanced', max_depth=5, n_estimators=50,\n",
       "                       n_jobs=-1, random_state=42)"
      ]
     },
     "execution_count": 40,
     "metadata": {},
     "output_type": "execute_result"
    }
   ],
   "source": [
    "rf_model = RandomForestClassifier(\n",
    "    n_estimators=50,           \n",
    "    max_depth=5,               \n",
    "    class_weight='balanced',    \n",
    "    n_jobs=-1,                  \n",
    "    random_state=42\n",
    ")\n",
    "\n",
    "rf_model.fit(X_train, y_train)"
   ]
  },
  {
   "cell_type": "code",
   "execution_count": null,
   "metadata": {},
   "outputs": [
    {
     "name": "stdout",
     "output_type": "stream",
     "text": [
      "              precision    recall  f1-score   support\n",
      "\n",
      "      Botnet       0.85      0.17      0.29      5625\n",
      "        Safe       0.99      1.00      1.00    518243\n",
      "\n",
      "    accuracy                           0.99    523868\n",
      "   macro avg       0.92      0.59      0.64    523868\n",
      "weighted avg       0.99      0.99      0.99    523868\n",
      "\n",
      "ROC-AUC: 0.6041\n"
     ]
    },
    {
     "data": {
      "image/png": "[encoded data removed]",
      "text/plain": [
       "<Figure size 640x480 with 2 Axes>"
      ]
     },
     "metadata": {},
     "output_type": "display_data"
    }
   ],
   "source": [
    "y_pred = rf_model.predict(X_test)\n",
    "y_proba = rf_model.predict_proba(X_test)[:, 1]  \n",
    "\n",
    "print(classification_report(y_test, y_pred, target_names=[\"Botnet\", \"Safe\"]))\n",
    "print(f\"ROC-AUC: {roc_auc_score(y_test, y_proba):.4f}\")\n",
    "\n",
    "from sklearn.metrics import confusion_matrix\n",
    "import seaborn as sns\n",
    "import matplotlib.pyplot as plt\n",
    "\n",
    "cm = confusion_matrix(y_test, y_pred)\n",
    "cm_display = ConfusionMatrixDisplay(confusion_matrix = cm, display_labels=[\"Botnet\", \"Safe\"])\n",
    "cm_display.plot()\n",
    "plt.title('Confusion Matrix (Random Forest)')\n",
    "plt.show()"
   ]
  },
  {
   "cell_type": "code",
   "execution_count": null,
   "metadata": {},
   "outputs": [
    {
     "name": "stdout",
     "output_type": "stream",
     "text": [
      "              precision    recall  f1-score   support\n",
      "\n",
      "      Botnet   0.849123  0.172089  0.286179      5625\n",
      "        Safe   0.991091  0.999668  0.995361    518243\n",
      "\n",
      "    accuracy                       0.990782    523868\n",
      "   macro avg   0.920107  0.585878  0.640770    523868\n",
      "weighted avg   0.989567  0.990782  0.987746    523868\n",
      "\n",
      "ROC-AUC: 0.6041\n"
     ]
    },
    {
     "data": {
      "image/png": "[encoded data removed]",
      "text/plain": [
       "<Figure size 640x480 with 2 Axes>"
      ]
     },
     "metadata": {},
     "output_type": "display_data"
    }
   ],
   "source": [
    "y_pred = rf_model.predict(X_test)\n",
    "y_proba = rf_model.predict_proba(X_test)[:, 1]  # Probabilities for ROC-AUC\n",
    "\n",
    "print(classification_report(y_test, y_pred, target_names=['Botnet', 'Safe'], digits=6))\n",
    "print(f\"ROC-AUC: {roc_auc_score(y_test, y_proba):.4f}\")\n",
    "\n",
    "\n",
    "from sklearn.metrics import confusion_matrix\n",
    "import seaborn as sns\n",
    "import matplotlib.pyplot as plt\n",
    "\n",
    "cm = confusion_matrix(y_test, y_pred)\n",
    "sns.heatmap(cm, annot=True, fmt='d', cmap='Blues', xticklabels=['Botnet', 'Safe'], yticklabels=['Botnet', 'Safe'])\n",
    "plt.xlabel('Predicted')\n",
    "plt.ylabel('Actual')\n",
    "plt.title('Confusion Matrix (Random Forest)')\n",
    "plt.show()"
   ]
  },
  {
   "cell_type": "code",
   "execution_count": null,
   "metadata": {},
   "outputs": [
    {
     "data": {
      "text/plain": [
       "['preprocessor_with_rf.joblib']"
      ]
     },
     "execution_count": 43,
     "metadata": {},
     "output_type": "execute_result"
    }
   ],
   "source": [
    "from joblib import dump, load  \n",
    "\n",
    "dump(rf_model, 'random_forest_ctu13.joblib') \n",
    "dump(preprocessor, 'preprocessor_with_rf.joblib')"
   ]
  },
  {
   "cell_type": "code",
   "execution_count": null,
   "metadata": {},
   "outputs": [
    {
     "name": "stdout",
     "output_type": "stream",
     "text": [
      "Mean latency per flow: 134.5318 ms\n",
      "Std deviation: 39.5993 ms\n",
      "Max latency: 1356.2112 ms\n"
     ]
    }
   ],
   "source": [
    "rf_model = load('random_forest_ctu13.joblib')  \n",
    "\n",
    "single_flow = X_test[0:1]  \n",
    "\n",
    "_ = rf_model.predict(single_flow)\n",
    "\n",
    "n_runs = 1000\n",
    "latencies = []\n",
    "for _ in range(n_runs):\n",
    "    start_time = time.perf_counter()  \n",
    "    _ = rf_model.predict(single_flow)\n",
    "    end_time = time.perf_counter()\n",
    "    latencies.append((end_time - start_time) * 1000)  \n",
    "    \n",
    "print(f\"Mean latency per flow: {np.mean(latencies):.4f} ms\")\n",
    "print(f\"Std deviation: {np.std(latencies):.4f} ms\")\n",
    "print(f\"Max latency: {np.max(latencies):.4f} ms\")"
   ]
  },
  {
   "cell_type": "code",
   "execution_count": 48,
   "metadata": {},
   "outputs": [],
   "source": [
    "# selected_indices = [i for i, imp in enumerate(rf.feature_importances_) if imp > 0.05]\n",
    "selected_indices = [3,4,6,7, 13]\n",
    "train_features_reduced = train_features_np[:, selected_indices]\n",
    "test_features_reduced = test_features_np[:, selected_indices]"
   ]
  },
  {
   "cell_type": "code",
   "execution_count": 49,
   "metadata": {},
   "outputs": [
    {
     "data": {
      "text/plain": [
       "(564928, 5)"
      ]
     },
     "execution_count": 49,
     "metadata": {},
     "output_type": "execute_result"
    }
   ],
   "source": [
    "test_features_reduced.shape"
   ]
  },
  {
   "cell_type": "code",
   "execution_count": 50,
   "metadata": {},
   "outputs": [
    {
     "data": {
      "text/plain": [
       "5"
      ]
     },
     "execution_count": 50,
     "metadata": {},
     "output_type": "execute_result"
    }
   ],
   "source": [
    "test_features_reduced.shape[1]"
   ]
  },
  {
   "cell_type": "code",
   "execution_count": 51,
   "metadata": {},
   "outputs": [
    {
     "data": {
      "text/plain": [
       "array([[8.68560e+04, 4.65820e+04, 2.11000e+04, 5.66550e+04, 7.90000e+01],\n",
       "       [8.68560e+04, 4.71300e+04, 2.11000e+04, 5.66550e+04, 6.60000e+01],\n",
       "       [8.68560e+04, 3.40670e+04, 2.11000e+04, 5.66550e+04, 7.90000e+01],\n",
       "       ...,\n",
       "       [8.67640e+04, 4.09270e+04, 7.96290e+04, 1.34370e+04, 7.40000e+01],\n",
       "       [4.92849e+05, 5.71000e+02, 2.12500e+04, 1.30050e+04, 4.60000e+02],\n",
       "       [3.30828e+05, 2.14470e+04, 2.12500e+04, 1.30050e+04, 7.70000e+01]],\n",
       "      dtype=float32)"
      ]
     },
     "execution_count": 51,
     "metadata": {},
     "output_type": "execute_result"
    }
   ],
   "source": [
    "test_features_reduced"
   ]
  },
  {
   "cell_type": "code",
   "execution_count": 52,
   "metadata": {},
   "outputs": [
    {
     "data": {
      "text/plain": [
       "array([[5.05974e+05, 6.37400e+03, 2.13160e+04, 7.06330e+04, 1.56000e+02],\n",
       "       [5.05974e+05, 6.37400e+03, 2.13160e+04, 7.06330e+04, 1.56000e+02],\n",
       "       [8.69600e+04, 4.15920e+04, 7.79820e+04, 7.17620e+04, 1.22000e+02],\n",
       "       ...,\n",
       "       [8.68560e+04, 2.79010e+04, 2.11000e+04, 5.66550e+04, 7.90000e+01],\n",
       "       [8.68560e+04, 3.14580e+04, 2.11000e+04, 5.66550e+04, 6.60000e+01],\n",
       "       [2.95903e+05, 2.71660e+04, 2.12500e+04, 1.30050e+04, 7.50000e+01]],\n",
       "      dtype=float32)"
      ]
     },
     "execution_count": 52,
     "metadata": {},
     "output_type": "execute_result"
    }
   ],
   "source": [
    "train_features_reduced"
   ]
  },
  {
   "cell_type": "code",
   "execution_count": 53,
   "metadata": {},
   "outputs": [],
   "source": [
    "def lr_scheduler(epoch, lr):\n",
    "    if epoch < 5:\n",
    "        return lr\n",
    "    else:\n",
    "        return lr * tf.math.exp(-0.1)"
   ]
  },
  {
   "cell_type": "code",
   "execution_count": null,
   "metadata": {},
   "outputs": [],
   "source": [
    "initial_learning_rate = 0.01\n",
    "decay_steps = 1000\n",
    "decay_rate = 0.9"
   ]
  },
  {
   "cell_type": "code",
   "execution_count": null,
   "metadata": {},
   "outputs": [],
   "source": [
    "lr_schedule = tf.keras.optimizers.schedules.ExponentialDecay(\n",
    "    initial_learning_rate,\n",
    "    decay_steps=decay_steps,\n",
    "    decay_rate=decay_rate,\n",
    "    staircase=True)\n",
    "\n",
    "reduce_lr = tf.keras.callbacks.ReduceLROnPlateau(\n",
    "    monitor='val_loss',\n",
    "    factor=0.2,\n",
    "    patience=3,\n",
    "    min_lr=1e-6)"
   ]
  },
  {
   "cell_type": "code",
   "execution_count": 56,
   "metadata": {},
   "outputs": [],
   "source": [
    "early_stop = EarlyStopping(monitor='val_loss', patience=2)"
   ]
  },
  {
   "cell_type": "code",
   "execution_count": 57,
   "metadata": {},
   "outputs": [
    {
     "data": {
      "text/plain": [
       "35307"
      ]
     },
     "execution_count": 57,
     "metadata": {},
     "output_type": "execute_result"
    }
   ],
   "source": [
    "len(train_features_np)//64"
   ]
  },
  {
   "cell_type": "code",
   "execution_count": 58,
   "metadata": {},
   "outputs": [
    {
     "name": "stdout",
     "output_type": "stream",
     "text": [
      "Epoch 1/10\n",
      "2207/2207 [==============================] - 12s 4ms/step - loss: 104.6784 - accuracy: 0.4879 - val_loss: 0.5888 - val_accuracy: 0.4162\n",
      "Epoch 2/10\n",
      "2207/2207 [==============================] - 10s 5ms/step - loss: 1.0774 - accuracy: 0.3386 - val_loss: 0.6180 - val_accuracy: 0.4149\n",
      "Epoch 3/10\n",
      "2207/2207 [==============================] - 10s 4ms/step - loss: 0.7411 - accuracy: 0.3379 - val_loss: 0.6267 - val_accuracy: 0.3946\n",
      "17654/17654 [==============================] - 31s 2ms/step - loss: 0.6267 - accuracy: 0.3946\n",
      "Test accuracy: 0.3945600092411041\n"
     ]
    }
   ],
   "source": [
    "model = tf.keras.Sequential([\n",
    "tf.keras.layers.Dense(64, activation='relu', input_shape=(5,), kernel_regularizer=l2(0.01)),\n",
    "# tf.keras.layers.BatchNormalization(),\n",
    "tf.keras.layers.Dropout(0.3),\n",
    "# tf.keras.layers.Dense(128, activation='relu'),\n",
    "# tf.keras.layers.BatchNormalization(),\n",
    "tf.keras.layers.Dense(16, activation='relu'),\n",
    "# tf.keras.layers.BatchNormalization(),\n",
    "tf.keras.layers.Dropout(0.2),\n",
    "tf.keras.layers.Dense(1, activation='sigmoid')\n",
    "])\n",
    "\n",
    "# Compile the model\n",
    "optimizer = tf.keras.optimizers.Nadam()\n",
    "model.compile(optimizer=optimizer,\n",
    "              loss='binary_crossentropy',\n",
    "              metrics=['accuracy'])\n",
    "\n",
    "# Train the model\n",
    "history = model.fit(train_features_reduced, train_labels_np,batch_size=1024, epochs=10, verbose=1,\n",
    "                    validation_data=(test_features_reduced, test_labels_np), class_weight=class_weight_dict,callbacks=[early_stop])\n",
    "# Evaluate the model ,reduce_lr\n",
    "test_loss, test_acc = model.evaluate(test_features_reduced, test_labels_np, verbose=1)\n",
    "print(f\"Test accuracy: {test_acc}\")\n",
    "# model.save('testing_prototype_2.h5')\n",
    "#"
   ]
  },
  {
   "cell_type": "code",
   "execution_count": 59,
   "metadata": {},
   "outputs": [
    {
     "name": "stdout",
     "output_type": "stream",
     "text": [
      "Model: \"sequential_1\"\n",
      "_________________________________________________________________\n",
      " Layer (type)                Output Shape              Param #   \n",
      "=================================================================\n",
      " dense_3 (Dense)             (None, 64)                384       \n",
      "                                                                 \n",
      " dropout (Dropout)           (None, 64)                0         \n",
      "                                                                 \n",
      " dense_4 (Dense)             (None, 16)                1040      \n",
      "                                                                 \n",
      " dropout_1 (Dropout)         (None, 16)                0         \n",
      "                                                                 \n",
      " dense_5 (Dense)             (None, 1)                 17        \n",
      "                                                                 \n",
      "=================================================================\n",
      "Total params: 1441 (5.63 KB)\n",
      "Trainable params: 1441 (5.63 KB)\n",
      "Non-trainable params: 0 (0.00 Byte)\n",
      "_________________________________________________________________\n"
     ]
    }
   ],
   "source": [
    "model.summary()"
   ]
  },
  {
   "cell_type": "code",
   "execution_count": 60,
   "metadata": {},
   "outputs": [
    {
     "name": "stdout",
     "output_type": "stream",
     "text": [
      "17654/17654 [==============================] - 25s 1ms/step\n"
     ]
    }
   ],
   "source": [
    "y_pred_probs = model.predict(test_features_reduced)"
   ]
  },
  {
   "cell_type": "code",
   "execution_count": 61,
   "metadata": {},
   "outputs": [],
   "source": [
    "y_pred_binary = (y_pred_probs > 0.5).astype(int)\n",
    "\n",
    "cm = confusion_matrix(test_labels_np, y_pred_binary)"
   ]
  },
  {
   "cell_type": "code",
   "execution_count": 62,
   "metadata": {},
   "outputs": [
    {
     "data": {
      "image/png": "[encoded data removed]",
      "text/plain": [
       "<Figure size 640x480 with 2 Axes>"
      ]
     },
     "metadata": {},
     "output_type": "display_data"
    }
   ],
   "source": [
    "cm_display = ConfusionMatrixDisplay(confusion_matrix = cm, display_labels=[\"Botnet\", \"Safe\"])\n",
    "\n",
    "cm_display.plot()\n",
    "plt.show()"
   ]
  },
  {
   "cell_type": "code",
   "execution_count": 63,
   "metadata": {},
   "outputs": [],
   "source": [
    "# False Positive Rate (FPR): FP / (FP + TN)\n",
    "tn, fp, fn, tp = confusion_matrix(test_labels_np, y_pred_binary).ravel()\n",
    "tpr = tp/(tp+fn)\n",
    "fpr = fp/(fp+tn)\n"
   ]
  },
  {
   "cell_type": "code",
   "execution_count": null,
   "metadata": {},
   "outputs": [
    {
     "name": "stdout",
     "output_type": "stream",
     "text": [
      "Precision: 1.0\n",
      "TPR (Recall): 0.3833\n",
      "FPR: 0.0000\n",
      "F1-Score: 0.554210774640728\n",
      "AUC-ROC: 0.6917052203419167\n"
     ]
    }
   ],
   "source": [
    "# model.save('testing_prototype_4.h5')\n",
    "# model.save('testing_prototype_4.keras')\n",
    "\n",
    "y_true = test_labels_np\n",
    "y_pred_class = (y_pred_probs >= 0.5).astype(int)  # Threshold at 0.5\n",
    "\n",
    "\n",
    "print(\"Precision:\", precision_score(y_true, y_pred_class))\n",
    "print(f\"TPR (Recall): {tpr:.4f}\")\n",
    "print(f\"FPR: {fpr:.4f}\")\n",
    "print(\"F1-Score:\", f1_score(y_true, y_pred_class))\n",
    "print(\"AUC-ROC:\", roc_auc_score(y_true, y_pred_probs))"
   ]
  },
  {
   "cell_type": "code",
   "execution_count": null,
   "metadata": {},
   "outputs": [
    {
     "name": "stdout",
     "output_type": "stream",
     "text": [
      "552/552 [==============================] - 1s 2ms/step\n",
      "Latency: 0.002536 ms/flow\n"
     ]
    }
   ],
   "source": [
    "import time\n",
    "\n",
    "start = time.time()\n",
    "y_pred = model.predict(test_features_reduced, batch_size=1024)  \n",
    "latency_ms = (time.time() - start) * 1000 / len(test_features_reduced)\n",
    "print(f\"Latency: {latency_ms:.6f} ms/flow\")"
   ]
  },
  {
   "cell_type": "code",
   "execution_count": 66,
   "metadata": {},
   "outputs": [
    {
     "data": {
      "image/png": "[encoded data removed]",
      "text/plain": [
       "<Figure size 640x480 with 1 Axes>"
      ]
     },
     "metadata": {},
     "output_type": "display_data"
    }
   ],
   "source": [
    "plt.plot(history.history['accuracy'], label='Train Accuracy')\n",
    "plt.plot(history.history['val_accuracy'], label='Val Accuracy')\n",
    "plt.legend()\n",
    "plt.show()"
   ]
  },
  {
   "cell_type": "code",
   "execution_count": 67,
   "metadata": {},
   "outputs": [
    {
     "data": {
      "image/png": "[encoded data removed]",
      "text/plain": [
       "<Figure size 640x480 with 1 Axes>"
      ]
     },
     "metadata": {},
     "output_type": "display_data"
    }
   ],
   "source": [
    "plt.plot(history.history['loss'], label='loss')\n",
    "plt.plot(history.history['val_loss'], label='Val loss')\n",
    "plt.legend()\n",
    "plt.show()"
   ]
  },
  {
   "cell_type": "code",
   "execution_count": 68,
   "metadata": {},
   "outputs": [],
   "source": [
    "# model.save('testing_prototype_1.h5')\n",
    "# model.save('testing_prototype_1.keras')"
   ]
  },
  {
   "cell_type": "code",
   "execution_count": null,
   "metadata": {},
   "outputs": [
    {
     "name": "stdout",
     "output_type": "stream",
     "text": [
      "17654/17654 [==============================] - 26s 1ms/step\n"
     ]
    },
    {
     "data": {
      "image/png": "[encoded data removed]",
      "text/plain": [
       "<Figure size 640x480 with 1 Axes>"
      ]
     },
     "metadata": {},
     "output_type": "display_data"
    }
   ],
   "source": [
    "from sklearn.metrics import roc_curve\n",
    "import matplotlib.pyplot as plt\n",
    "\n",
    "y_scores = model.predict(test_features_reduced).flatten()  \n",
    "\n",
    "fpr, tpr, thresholds = roc_curve(y_true, y_scores)\n",
    "\n",
    "plt.plot(fpr, tpr)\n",
    "plt.xlabel('False Positive Rate')\n",
    "plt.ylabel('True Positive Rate (Recall)')\n",
    "plt.title('ROC Curve')\n",
    "plt.show()"
   ]
  },
  {
   "cell_type": "code",
   "execution_count": null,
   "metadata": {},
   "outputs": [
    {
     "name": "stdout",
     "output_type": "stream",
     "text": [
      "Epoch 1/10\n",
      "2207/2207 [==============================] - 17s 6ms/step - loss: 0.2409 - accuracy: 0.9022 - val_loss: 0.1164 - val_accuracy: 0.9624\n",
      "Epoch 2/10\n",
      "2207/2207 [==============================] - 14s 6ms/step - loss: 0.1600 - accuracy: 0.9407 - val_loss: 0.0835 - val_accuracy: 0.9870\n",
      "Epoch 3/10\n",
      "2207/2207 [==============================] - 13s 6ms/step - loss: 0.1456 - accuracy: 0.9440 - val_loss: 0.1065 - val_accuracy: 0.9662\n",
      "Epoch 4/10\n",
      "2207/2207 [==============================] - 13s 6ms/step - loss: 0.1404 - accuracy: 0.9425 - val_loss: 0.0931 - val_accuracy: 0.9698\n",
      "17654/17654 [==============================] - 32s 2ms/step - loss: 0.0931 - accuracy: 0.9698\n",
      "Test accuracy: 0.9697625041007996\n"
     ]
    }
   ],
   "source": [
    "model = tf.keras.Sequential([\n",
    "tf.keras.layers.Dense(64, activation='relu', input_shape=(5,), kernel_regularizer=l2(0.01)),\n",
    "tf.keras.layers.BatchNormalization(),\n",
    "tf.keras.layers.Dropout(0.3),\n",
    "tf.keras.layers.Dense(16, activation='relu'),\n",
    "tf.keras.layers.BatchNormalization(),\n",
    "tf.keras.layers.Dropout(0.2),\n",
    "tf.keras.layers.Dense(1, activation='sigmoid')\n",
    "])\n",
    "\n",
    "# Compile the model\n",
    "optimizer = tf.keras.optimizers.Nadam()\n",
    "model.compile(optimizer=optimizer,\n",
    "              loss='binary_crossentropy',\n",
    "              metrics=['accuracy'])\n",
    "\n",
    "history = model.fit(train_features_reduced, train_labels_np,batch_size=1024, epochs=10, verbose=1,\n",
    "                    validation_data=(test_features_reduced, test_labels_np), class_weight=class_weight_dict,callbacks=[early_stop])\n",
    "\n",
    "test_loss, test_acc = model.evaluate(test_features_reduced, test_labels_np, verbose=1)\n",
    "print(f\"Test accuracy: {test_acc}\")\n",
    "# model.save('testing_prototype_2.h5')\n",
    "#"
   ]
  },
  {
   "cell_type": "code",
   "execution_count": 92,
   "metadata": {},
   "outputs": [
    {
     "name": "stdout",
     "output_type": "stream",
     "text": [
      "Model: \"sequential_3\"\n",
      "_________________________________________________________________\n",
      " Layer (type)                Output Shape              Param #   \n",
      "=================================================================\n",
      " dense_9 (Dense)             (None, 64)                384       \n",
      "                                                                 \n",
      " batch_normalization_4 (Bat  (None, 64)                256       \n",
      " chNormalization)                                                \n",
      "                                                                 \n",
      " dropout_4 (Dropout)         (None, 64)                0         \n",
      "                                                                 \n",
      " dense_10 (Dense)            (None, 16)                1040      \n",
      "                                                                 \n",
      " batch_normalization_5 (Bat  (None, 16)                64        \n",
      " chNormalization)                                                \n",
      "                                                                 \n",
      " dropout_5 (Dropout)         (None, 16)                0         \n",
      "                                                                 \n",
      " dense_11 (Dense)            (None, 1)                 17        \n",
      "                                                                 \n",
      "=================================================================\n",
      "Total params: 1761 (6.88 KB)\n",
      "Trainable params: 1601 (6.25 KB)\n",
      "Non-trainable params: 160 (640.00 Byte)\n",
      "_________________________________________________________________\n"
     ]
    }
   ],
   "source": [
    "model.summary()"
   ]
  },
  {
   "cell_type": "code",
   "execution_count": 93,
   "metadata": {},
   "outputs": [
    {
     "name": "stdout",
     "output_type": "stream",
     "text": [
      "17654/17654 [==============================] - 28s 2ms/step\n"
     ]
    }
   ],
   "source": [
    "y_pred_probs = model.predict(test_features_reduced)"
   ]
  },
  {
   "cell_type": "code",
   "execution_count": 94,
   "metadata": {},
   "outputs": [],
   "source": [
    "y_pred_binary = (y_pred_probs >= 0.5).astype(int)\n",
    "\n",
    "cm = confusion_matrix(test_labels_np, y_pred_binary)"
   ]
  },
  {
   "cell_type": "code",
   "execution_count": 95,
   "metadata": {},
   "outputs": [
    {
     "data": {
      "image/png": "[encoded data removed]",
      "text/plain": [
       "<Figure size 640x480 with 2 Axes>"
      ]
     },
     "metadata": {},
     "output_type": "display_data"
    }
   ],
   "source": [
    "cm_display = ConfusionMatrixDisplay(confusion_matrix = cm, display_labels=[\"Botnet\", \"Safe\"])\n",
    "\n",
    "cm_display.plot()\n",
    "plt.show()"
   ]
  },
  {
   "cell_type": "code",
   "execution_count": null,
   "metadata": {},
   "outputs": [],
   "source": [
    "tn, fp, fn, tp = confusion_matrix(test_labels_np, y_pred_binary).ravel()\n",
    "tpr = tp/(tp+fn)\n",
    "fpr = fp/(fp+tn)\n"
   ]
  },
  {
   "cell_type": "code",
   "execution_count": null,
   "metadata": {},
   "outputs": [
    {
     "name": "stdout",
     "output_type": "stream",
     "text": [
      "Precision: 0.9979528165908931\n",
      "TPR (Recall): 0.9712\n",
      "FPR: 0.1074\n",
      "F1-Score: 0.9843915044170161\n",
      "AUC-ROC: 0.9906173364792265\n"
     ]
    }
   ],
   "source": [
    "# model.save('testing_prototype_4.h5')\n",
    "# model.save('testing_prototype_4.keras')\n",
    "\n",
    "y_true = test_labels_np\n",
    "y_pred_class = (y_pred_probs >= 0.5).astype(int)  \n",
    "\n",
    "\n",
    "print(\"Precision:\", precision_score(y_true, y_pred_class))\n",
    "print(f\"TPR (Recall): {tpr:.4f}\")\n",
    "print(f\"FPR: {fpr:.4f}\")\n",
    "print(\"F1-Score:\", f1_score(y_true, y_pred_class))\n",
    "print(\"AUC-ROC:\", roc_auc_score(y_true, y_pred_probs))"
   ]
  },
  {
   "cell_type": "code",
   "execution_count": null,
   "metadata": {},
   "outputs": [
    {
     "name": "stdout",
     "output_type": "stream",
     "text": [
      "552/552 [==============================] - 1s 2ms/step\n",
      "Latency: 0.002538 ms/flow\n"
     ]
    }
   ],
   "source": [
    "start = time.time()\n",
    "y_pred = model.predict(test_features_reduced, batch_size=1024)  \n",
    "latency_ms = (time.time() - start) * 1000 / len(test_features_reduced)\n",
    "print(f\"Latency: {latency_ms:.6f} ms/flow\")"
   ]
  },
  {
   "cell_type": "code",
   "execution_count": 99,
   "metadata": {},
   "outputs": [
    {
     "data": {
      "image/png": "[encoded data removed]",
      "text/plain": [
       "<Figure size 640x480 with 1 Axes>"
      ]
     },
     "metadata": {},
     "output_type": "display_data"
    }
   ],
   "source": [
    "plt.plot(history.history['accuracy'], label='Train Accuracy')\n",
    "plt.plot(history.history['val_accuracy'], label='Val Accuracy')\n",
    "plt.legend()\n",
    "plt.show()"
   ]
  },
  {
   "cell_type": "code",
   "execution_count": 100,
   "metadata": {},
   "outputs": [
    {
     "data": {
      "image/png": "[encoded data removed]",
      "text/plain": [
       "<Figure size 640x480 with 1 Axes>"
      ]
     },
     "metadata": {},
     "output_type": "display_data"
    }
   ],
   "source": [
    "plt.plot(history.history['loss'], label='loss')\n",
    "plt.plot(history.history['val_loss'], label='Val loss')\n",
    "plt.legend()\n",
    "plt.show()"
   ]
  },
  {
   "cell_type": "code",
   "execution_count": null,
   "metadata": {},
   "outputs": [
    {
     "name": "stdout",
     "output_type": "stream",
     "text": [
      "17654/17654 [==============================] - 28s 2ms/step\n"
     ]
    },
    {
     "data": {
      "image/png": "[encoded data removed]",
      "text/plain": [
       "<Figure size 640x480 with 1 Axes>"
      ]
     },
     "metadata": {},
     "output_type": "display_data"
    }
   ],
   "source": [
    "from sklearn.metrics import roc_curve\n",
    "\n",
    "y_scores = model.predict(test_features_reduced).flatten()  \n",
    "\n",
    "fpr, tpr, thresholds = roc_curve(y_true, y_scores)\n",
    "\n",
    "plt.plot(fpr, tpr)\n",
    "plt.xlabel('False Positive Rate')\n",
    "plt.ylabel('True Positive Rate (Recall)')\n",
    "plt.title('ROC Curve')\n",
    "plt.show()"
   ]
  },
  {
   "cell_type": "code",
   "execution_count": 102,
   "metadata": {},
   "outputs": [],
   "source": [
    "# model = tf.keras.models.load_model('testing_prototype_1.keras')"
   ]
  },
  {
   "cell_type": "code",
   "execution_count": 103,
   "metadata": {},
   "outputs": [
    {
     "data": {
      "text/plain": [
       "'2.15.0'"
      ]
     },
     "execution_count": 103,
     "metadata": {},
     "output_type": "execute_result"
    }
   ],
   "source": [
    "tf.__version__"
   ]
  },
  {
   "cell_type": "code",
   "execution_count": 104,
   "metadata": {},
   "outputs": [],
   "source": [
    "import tensorflow_model_optimization as tfmot\n",
    "from tensorflow_model_optimization.sparsity import keras as sparsity\n"
   ]
  },
  {
   "cell_type": "code",
   "execution_count": 109,
   "metadata": {},
   "outputs": [],
   "source": [
    "def calculate_sparsity(model):\n",
    "    total_zeros = 0\n",
    "    total_weights = 0\n",
    "    for layer in model.layers:\n",
    "        for weight in layer.weights:\n",
    "            if 'kernel' in weight.name:\n",
    "                w = weight.numpy()\n",
    "                total_zeros += np.count_nonzero(w == 0)\n",
    "                total_weights += w.size\n",
    "    return total_zeros / total_weights if total_weights > 0 else 0\n"
   ]
  },
  {
   "cell_type": "code",
   "execution_count": null,
   "metadata": {},
   "outputs": [
    {
     "name": "stdout",
     "output_type": "stream",
     "text": [
      "Epoch 1/100\n",
      "2207/2207 [==============================] - 20s 6ms/step - loss: 0.1351 - accuracy: 0.9442 - val_loss: 0.1107 - val_accuracy: 0.9470\n",
      "Epoch 2/100\n",
      "2207/2207 [==============================] - 16s 7ms/step - loss: 0.1276 - accuracy: 0.9470 - val_loss: 0.1128 - val_accuracy: 0.9433\n"
     ]
    },
    {
     "data": {
      "text/plain": [
       "<keras.src.callbacks.History at 0x1dfc247c290>"
      ]
     },
     "execution_count": 110,
     "metadata": {},
     "output_type": "execute_result"
    }
   ],
   "source": [
    "import tensorflow as tf\n",
    "import tensorflow_model_optimization as tfmot\n",
    "\n",
    "pruning_params = {\n",
    "    'pruning_schedule': tfmot.sparsity.keras.PolynomialDecay(\n",
    "        initial_sparsity=0,\n",
    "        final_sparsity=0.3,\n",
    "        begin_step=0,\n",
    "        end_step=2000\n",
    "    )\n",
    "}\n",
    "\n",
    "pruned_model = tfmot.sparsity.keras.prune_low_magnitude(model, **pruning_params)\n",
    "\n",
    "pruned_model.compile(\n",
    "    optimizer='Nadam',\n",
    "    loss='binary_crossentropy',\n",
    "    metrics=['accuracy']\n",
    ")\n",
    "\n",
    "callbacks = [\n",
    "    tfmot.sparsity.keras.UpdatePruningStep(),\n",
    "    tf.keras.callbacks.EarlyStopping(patience=1)  \n",
    "]\n",
    "\n",
    "pruned_model.fit(\n",
    "    train_features_reduced,\n",
    "    train_labels_np,\n",
    "    epochs=100,\n",
    "    batch_size = 1024,\n",
    "    class_weight=class_weight_dict,\n",
    "    validation_data=(train_features_reduced, train_labels_np),\n",
    "    callbacks=callbacks  \n",
    ")"
   ]
  },
  {
   "cell_type": "code",
   "execution_count": 111,
   "metadata": {},
   "outputs": [
    {
     "name": "stdout",
     "output_type": "stream",
     "text": [
      "Final model sparsity: 0.3\n"
     ]
    }
   ],
   "source": [
    "print(\"Final model sparsity:\", calculate_sparsity(pruned_model))"
   ]
  },
  {
   "cell_type": "code",
   "execution_count": null,
   "metadata": {},
   "outputs": [
    {
     "name": "stdout",
     "output_type": "stream",
     "text": [
      "17654/17654 - 24s - loss: 0.1106 - accuracy: 0.9438 - 24s/epoch - 1ms/step\n"
     ]
    }
   ],
   "source": [
    "test_loss, test_acc = pruned_model.evaluate(test_features_reduced, test_labels_np, verbose=2)"
   ]
  },
  {
   "cell_type": "code",
   "execution_count": 113,
   "metadata": {},
   "outputs": [
    {
     "name": "stdout",
     "output_type": "stream",
     "text": [
      "Model: \"sequential_3\"\n",
      "_________________________________________________________________\n",
      " Layer (type)                Output Shape              Param #   \n",
      "=================================================================\n",
      " prune_low_magnitude_dense_  (None, 64)                706       \n",
      " 9 (PruneLowMagnitude)                                           \n",
      "                                                                 \n",
      " prune_low_magnitude_batch_  (None, 64)                257       \n",
      " normalization_4 (PruneLowM                                      \n",
      " agnitude)                                                       \n",
      "                                                                 \n",
      " prune_low_magnitude_dropou  (None, 64)                1         \n",
      " t_4 (PruneLowMagnitude)                                         \n",
      "                                                                 \n",
      " prune_low_magnitude_dense_  (None, 16)                2066      \n",
      " 10 (PruneLowMagnitude)                                          \n",
      "                                                                 \n",
      " prune_low_magnitude_batch_  (None, 16)                65        \n",
      " normalization_5 (PruneLowM                                      \n",
      " agnitude)                                                       \n",
      "                                                                 \n",
      " prune_low_magnitude_dropou  (None, 16)                1         \n",
      " t_5 (PruneLowMagnitude)                                         \n",
      "                                                                 \n",
      " prune_low_magnitude_dense_  (None, 1)                 35        \n",
      " 11 (PruneLowMagnitude)                                          \n",
      "                                                                 \n",
      "=================================================================\n",
      "Total params: 3131 (12.26 KB)\n",
      "Trainable params: 1601 (6.25 KB)\n",
      "Non-trainable params: 1530 (6.00 KB)\n",
      "_________________________________________________________________\n"
     ]
    }
   ],
   "source": [
    "pruned_model.summary()"
   ]
  },
  {
   "cell_type": "code",
   "execution_count": 114,
   "metadata": {},
   "outputs": [],
   "source": [
    "pruned_model = tfmot.sparsity.keras.strip_pruning(pruned_model)"
   ]
  },
  {
   "cell_type": "code",
   "execution_count": 115,
   "metadata": {},
   "outputs": [
    {
     "name": "stdout",
     "output_type": "stream",
     "text": [
      "Model: \"sequential_3\"\n",
      "_________________________________________________________________\n",
      " Layer (type)                Output Shape              Param #   \n",
      "=================================================================\n",
      " dense_9 (Dense)             (None, 64)                384       \n",
      "                                                                 \n",
      " batch_normalization_4 (Bat  (None, 64)                256       \n",
      " chNormalization)                                                \n",
      "                                                                 \n",
      " dropout_4 (Dropout)         (None, 64)                0         \n",
      "                                                                 \n",
      " dense_10 (Dense)            (None, 16)                1040      \n",
      "                                                                 \n",
      " batch_normalization_5 (Bat  (None, 16)                64        \n",
      " chNormalization)                                                \n",
      "                                                                 \n",
      " dropout_5 (Dropout)         (None, 16)                0         \n",
      "                                                                 \n",
      " dense_11 (Dense)            (None, 1)                 17        \n",
      "                                                                 \n",
      "=================================================================\n",
      "Total params: 1761 (6.88 KB)\n",
      "Trainable params: 1601 (6.25 KB)\n",
      "Non-trainable params: 160 (640.00 Byte)\n",
      "_________________________________________________________________\n"
     ]
    }
   ],
   "source": [
    "pruned_model.summary()"
   ]
  },
  {
   "cell_type": "code",
   "execution_count": 116,
   "metadata": {},
   "outputs": [
    {
     "name": "stdout",
     "output_type": "stream",
     "text": [
      "17654/17654 [==============================] - 28s 2ms/step\n"
     ]
    }
   ],
   "source": [
    "y_pred_probs = pruned_model.predict(test_features_reduced)"
   ]
  },
  {
   "cell_type": "code",
   "execution_count": 117,
   "metadata": {},
   "outputs": [],
   "source": [
    "y_pred_binary = (y_pred_probs >= 0.5).astype(int)\n",
    "\n",
    "cm = confusion_matrix(test_labels_np, y_pred_binary)"
   ]
  },
  {
   "cell_type": "code",
   "execution_count": 118,
   "metadata": {},
   "outputs": [
    {
     "data": {
      "image/png": "[encoded data removed]",
      "text/plain": [
       "<Figure size 640x480 with 2 Axes>"
      ]
     },
     "metadata": {},
     "output_type": "display_data"
    }
   ],
   "source": [
    "cm_display = ConfusionMatrixDisplay(confusion_matrix = cm, display_labels=[\"Botnet\", \"Safe\"])\n",
    "\n",
    "cm_display.plot()\n",
    "plt.show()"
   ]
  },
  {
   "cell_type": "code",
   "execution_count": null,
   "metadata": {},
   "outputs": [],
   "source": [
    "tn, fp, fn, tp = confusion_matrix(test_labels_np, y_pred_binary).ravel()\n",
    "tpr = tp/(tp+fn)\n",
    "fpr = fp/(fp+tn)"
   ]
  },
  {
   "cell_type": "code",
   "execution_count": null,
   "metadata": {},
   "outputs": [
    {
     "name": "stdout",
     "output_type": "stream",
     "text": [
      "Precision: 0.9988284544375627\n",
      "TPR (Recall): 0.9438\n",
      "FPR: 0.0597\n",
      "F1-Score: 0.9705469013619694\n",
      "AUC-ROC: 0.9916467197573366\n"
     ]
    }
   ],
   "source": [
    "# model.save('testing_prototype_4.h5')\n",
    "# model.save('testing_prototype_4.keras')\n",
    "\n",
    "y_true = test_labels_np\n",
    "y_pred_class = (y_pred_probs >= 0.5).astype(int)  #\n",
    "\n",
    "print(\"Precision:\", precision_score(y_true, y_pred_class))\n",
    "print(f\"TPR (Recall): {tpr:.4f}\")\n",
    "print(f\"FPR: {fpr:.4f}\")\n",
    "print(\"F1-Score:\", f1_score(y_true, y_pred_class))\n",
    "print(\"AUC-ROC:\", roc_auc_score(y_true, y_pred_probs))"
   ]
  },
  {
   "cell_type": "code",
   "execution_count": null,
   "metadata": {},
   "outputs": [
    {
     "name": "stdout",
     "output_type": "stream",
     "text": [
      "552/552 [==============================] - 1s 2ms/step\n",
      "Latency: 0.003159 ms/flow\n"
     ]
    }
   ],
   "source": [
    "start = time.time()\n",
    "y_pred = pruned_model.predict(test_features_reduced, batch_size=1024)  \n",
    "latency_ms = (time.time() - start) * 1000 / len(test_features_reduced)\n",
    "print(f\"Latency: {latency_ms:.6f} ms/flow\")"
   ]
  },
  {
   "cell_type": "code",
   "execution_count": null,
   "metadata": {},
   "outputs": [
    {
     "name": "stdout",
     "output_type": "stream",
     "text": [
      "INFO:tensorflow:Assets written to: C:\\Users\\espac\\AppData\\Local\\Temp\\tmpraw_u5bi\\assets\n"
     ]
    },
    {
     "name": "stderr",
     "output_type": "stream",
     "text": [
      "INFO:tensorflow:Assets written to: C:\\Users\\espac\\AppData\\Local\\Temp\\tmpraw_u5bi\\assets\n"
     ]
    },
    {
     "name": "stdout",
     "output_type": "stream",
     "text": [
      "WARNING:tensorflow:Compiled the loaded model, but the compiled metrics have yet to be built. `model.compile_metrics` will be empty until you train or evaluate the model.\n"
     ]
    },
    {
     "name": "stderr",
     "output_type": "stream",
     "text": [
      "c:\\Users\\espac\\miniconda3\\envs\\islp\\Lib\\site-packages\\keras\\src\\engine\\training.py:3103: UserWarning: You are saving your model as an HDF5 file via `model.save()`. This file format is considered legacy. We recommend using instead the native Keras format, e.g. `model.save('my_model.keras')`.\n",
      "  saving_api.save_model(\n",
      "WARNING:tensorflow:Compiled the loaded model, but the compiled metrics have yet to be built. `model.compile_metrics` will be empty until you train or evaluate the model.\n"
     ]
    }
   ],
   "source": [
    "converter = tf.lite.TFLiteConverter.from_keras_model(pruned_model)\n",
    "converter.optimizations = [tf.lite.Optimize.DEFAULT] \n",
    "quantized_model = converter.convert()\n",
    "\n",
    "with open('quantized.tflite', 'wb') as f:\n",
    "    f.write(quantized_model)\n",
    "\n",
    "pruned_model.save('pruned_model.h5')\n",
    "model.save('original.h5')"
   ]
  },
  {
   "cell_type": "code",
   "execution_count": 284,
   "metadata": {},
   "outputs": [
    {
     "name": "stdout",
     "output_type": "stream",
     "text": [
      "Expected input shape: [1 5]\n"
     ]
    }
   ],
   "source": [
    "interpreter = tf.lite.Interpreter(model_content=quantized_model)\n",
    "interpreter.allocate_tensors()\n",
    "input_details = interpreter.get_input_details()\n",
    "print(\"Expected input shape:\", input_details[0]['shape']) "
   ]
  },
  {
   "cell_type": "code",
   "execution_count": null,
   "metadata": {},
   "outputs": [
    {
     "name": "stdout",
     "output_type": "stream",
     "text": [
      "Your input shape: (1, 5)\n"
     ]
    }
   ],
   "source": [
    "input_data = np.array([test_features_reduced[0]], dtype=np.float32) \n",
    "print(\"Your input shape:\", input_data.shape) "
   ]
  },
  {
   "cell_type": "code",
   "execution_count": 286,
   "metadata": {},
   "outputs": [
    {
     "name": "stdout",
     "output_type": "stream",
     "text": [
      "Random Forest: 74.1 KB\n",
      "Original: 68.2 KB\n",
      "Pruned: 35.8 KB\n",
      "Quantized: 5.3 KB\n"
     ]
    }
   ],
   "source": [
    "interpreter = tf.lite.Interpreter(model_content=quantized_model)\n",
    "interpreter.allocate_tensors()\n",
    "\n",
    "print(f\"Random Forest: {os.path.getsize('random_forest_ctu13.joblib') / 1024:.1f} KB\")\n",
    "print(f\"Original: {os.path.getsize('original.h5') / 1024:.1f} KB\")\n",
    "print(f\"Pruned: {os.path.getsize('pruned_model.h5') / 1024:.1f} KB\")\n",
    "print(f\"Quantized: {os.path.getsize('quantized.tflite') / 1024:.1f} KB\")\n"
   ]
  },
  {
   "cell_type": "code",
   "execution_count": null,
   "metadata": {},
   "outputs": [],
   "source": [
    "class TFLiteModel:\n",
    "    def __init__(self, model_path):\n",
    "        self.interpreter = tf.lite.Interpreter(model_path=model_path)\n",
    "        self.interpreter.allocate_tensors()\n",
    "        self.input_details = self.interpreter.get_input_details()\n",
    "        self.output_details = self.interpreter.get_output_details()\n",
    "\n",
    "    def predict(self, X):\n",
    "        results = []\n",
    "        for sample in X:\n",
    "            input_shape = self.input_details[0]['shape']\n",
    "            input_data = np.array(sample, dtype=np.float32).reshape(input_shape)\n",
    "            self.interpreter.set_tensor(self.input_details[0]['index'], input_data)\n",
    "            self.interpreter.invoke()\n",
    "            output = self.interpreter.get_tensor(self.output_details[0]['index'])\n",
    "            results.append(output)\n",
    "        return np.array(results).squeeze()  \n"
   ]
  },
  {
   "cell_type": "code",
   "execution_count": 288,
   "metadata": {},
   "outputs": [],
   "source": [
    "quantized_model = TFLiteModel(\"quantized.tflite\")"
   ]
  },
  {
   "cell_type": "code",
   "execution_count": null,
   "metadata": {},
   "outputs": [],
   "source": [
    "X_test = test_features_reduced\n",
    "y_pred = quantized_model.predict(X_test)     \n",
    "\n",
    "y_pred_class = (y_pred >= 0.5).astype(int)"
   ]
  },
  {
   "cell_type": "code",
   "execution_count": 290,
   "metadata": {},
   "outputs": [
    {
     "name": "stdout",
     "output_type": "stream",
     "text": [
      "17654/17654 [==============================] - 26s 1ms/step\n",
      "pruned Accuracy: 0.9437592047128129\n",
      "Quantized Accuracy: 0.9817852894528152\n"
     ]
    }
   ],
   "source": [
    "y_pred_pruned = pruned_model.predict(X_test)\n",
    "\n",
    "y_pred_quant = quantized_model.predict(X_test)\n",
    "\n",
    "print(\"pruned Accuracy:\", accuracy_score(test_labels_np, y_pred_pruned >= 0.5))\n",
    "print(\"Quantized Accuracy:\", accuracy_score(test_labels_np, y_pred_quant >= 0.5))"
   ]
  },
  {
   "cell_type": "code",
   "execution_count": 291,
   "metadata": {},
   "outputs": [
    {
     "name": "stdout",
     "output_type": "stream",
     "text": [
      "Precision: 0.9817852894528152\n",
      "TPR (Recall): 1.0000\n",
      "FPR: 1.0000\n",
      "F1-Score: 0.9908089384636547\n",
      "AUC-ROC: 0.5\n"
     ]
    }
   ],
   "source": [
    "y_true = test_labels_np\n",
    "tn, fp, fn, tp = confusion_matrix(test_labels_np, y_pred_quant).ravel()\n",
    "tpr = tp/(tp+fn)\n",
    "fpr = fp/(fp+tn)\n",
    "\n",
    "print(\"Precision:\", precision_score(y_true, y_pred_quant))\n",
    "print(f\"TPR (Recall): {tpr:.4f}\")\n",
    "print(f\"FPR: {fpr:.4f}\")\n",
    "print(\"F1-Score:\", f1_score(y_true, y_pred_quant))\n",
    "print(\"AUC-ROC:\", roc_auc_score(y_true, y_pred_quant))"
   ]
  },
  {
   "cell_type": "code",
   "execution_count": null,
   "metadata": {},
   "outputs": [
    {
     "name": "stdout",
     "output_type": "stream",
     "text": [
      "Latency: 0.010799 ms/flow\n"
     ]
    }
   ],
   "source": [
    "start = time.time()\n",
    "y_pred = quantized_model.predict(test_features_reduced)  \n",
    "latency_ms = (time.time() - start) * 1000 / len(test_features_reduced)\n",
    "print(f\"Latency: {latency_ms:.6f} ms/flow\")"
   ]
  },
  {
   "cell_type": "code",
   "execution_count": 293,
   "metadata": {},
   "outputs": [
    {
     "data": {
      "image/png": "[encoded data removed]",
      "text/plain": [
       "<Figure size 640x480 with 2 Axes>"
      ]
     },
     "metadata": {},
     "output_type": "display_data"
    }
   ],
   "source": [
    "cm = confusion_matrix(test_labels_np, y_pred_quant)\n",
    "\n",
    "cm_display = ConfusionMatrixDisplay(confusion_matrix = cm, display_labels=[\"Botnet\", \"Safe\"])\n",
    "\n",
    "cm_display.plot()\n",
    "plt.show()"
   ]
  },
  {
   "cell_type": "code",
   "execution_count": null,
   "metadata": {},
   "outputs": [
    {
     "name": "stdout",
     "output_type": "stream",
     "text": [
      "INFO:tensorflow:Assets written to: C:\\Users\\espac\\AppData\\Local\\Temp\\tmparmoqf5g\\assets\n"
     ]
    },
    {
     "name": "stderr",
     "output_type": "stream",
     "text": [
      "INFO:tensorflow:Assets written to: C:\\Users\\espac\\AppData\\Local\\Temp\\tmparmoqf5g\\assets\n"
     ]
    }
   ],
   "source": [
    "converter = tf.lite.TFLiteConverter.from_keras_model(pruned_model)\n",
    "converter.optimizations = [tf.lite.Optimize.DEFAULT]  \n",
    "converter.target_spec.supported_types = [tf.float16]\n",
    "quantized_model = converter.convert()\n",
    "\n",
    "\n",
    "with open('quantized_H.tflite', 'wb') as f:\n",
    "    f.write(quantized_model)\n",
    "\n",
    "# pruned_model.save('pruned_model.h5')"
   ]
  },
  {
   "cell_type": "code",
   "execution_count": 295,
   "metadata": {},
   "outputs": [
    {
     "name": "stdout",
     "output_type": "stream",
     "text": [
      "pruned: 35.8 KB\n",
      "Quantized: 6.7 KB\n"
     ]
    }
   ],
   "source": [
    "interpreter = tf.lite.Interpreter(model_content=quantized_model)\n",
    "interpreter.allocate_tensors()\n",
    "\n",
    "print(f\"pruned: {os.path.getsize('pruned_model.h5') / 1024:.1f} KB\")\n",
    "print(f\"Quantized: {os.path.getsize('quantized_H.tflite') / 1024:.1f} KB\")\n"
   ]
  },
  {
   "cell_type": "code",
   "execution_count": 296,
   "metadata": {},
   "outputs": [],
   "source": [
    "quantized_model = TFLiteModel(\"quantized_H.tflite\")"
   ]
  },
  {
   "cell_type": "code",
   "execution_count": null,
   "metadata": {},
   "outputs": [],
   "source": [
    "X_test = test_features_reduced  \n",
    "y_pred = quantized_model.predict(X_test)     \n",
    "\n",
    "y_pred_class = (y_pred >= 0.5).astype(int)"
   ]
  },
  {
   "cell_type": "code",
   "execution_count": null,
   "metadata": {},
   "outputs": [
    {
     "ename": "InvalidArgumentError",
     "evalue": "{{function_node __wrapped__SerializeManySparse_device_/job:localhost/replica:0/task:0/device:CPU:0}} indices[523868] = [0,1] is out of order. Many sparse ops require sorted indices.\n    Use `tf.sparse.reorder` to create a correctly ordered copy.\n\n [Op:SerializeManySparse] name: ",
     "output_type": "error",
     "traceback": [
      "\u001b[1;31m---------------------------------------------------------------------------\u001b[0m",
      "\u001b[1;31mInvalidArgumentError\u001b[0m                      Traceback (most recent call last)",
      "Cell \u001b[1;32mIn[311], line 8\u001b[0m\n\u001b[0;32m      5\u001b[0m y_proba \u001b[38;5;241m=\u001b[39m rf_model\u001b[38;5;241m.\u001b[39mpredict_proba(X_test)[:, \u001b[38;5;241m1\u001b[39m]\n\u001b[0;32m      6\u001b[0m tn, fp, fn, tp \u001b[38;5;241m=\u001b[39m confusion_matrix(y_test, y_pred)\u001b[38;5;241m.\u001b[39mravel()\n\u001b[1;32m----> 8\u001b[0m y_pred_pruned \u001b[38;5;241m=\u001b[39m \u001b[43mpruned_model\u001b[49m\u001b[38;5;241;43m.\u001b[39;49m\u001b[43mpredict\u001b[49m\u001b[43m(\u001b[49m\u001b[43mX_test\u001b[49m\u001b[43m)\u001b[49m\n\u001b[0;32m      9\u001b[0m y_pred_or \u001b[38;5;241m=\u001b[39m model\u001b[38;5;241m.\u001b[39mpredict(X_test)\n\u001b[0;32m     10\u001b[0m \u001b[38;5;66;03m# Quantized model (fp16)\u001b[39;00m\n",
      "File \u001b[1;32mc:\\Users\\espac\\miniconda3\\envs\\islp\\Lib\\site-packages\\keras\\src\\utils\\traceback_utils.py:70\u001b[0m, in \u001b[0;36mfilter_traceback.<locals>.error_handler\u001b[1;34m(*args, **kwargs)\u001b[0m\n\u001b[0;32m     67\u001b[0m     filtered_tb \u001b[38;5;241m=\u001b[39m _process_traceback_frames(e\u001b[38;5;241m.\u001b[39m__traceback__)\n\u001b[0;32m     68\u001b[0m     \u001b[38;5;66;03m# To get the full stack trace, call:\u001b[39;00m\n\u001b[0;32m     69\u001b[0m     \u001b[38;5;66;03m# `tf.debugging.disable_traceback_filtering()`\u001b[39;00m\n\u001b[1;32m---> 70\u001b[0m     \u001b[38;5;28;01mraise\u001b[39;00m e\u001b[38;5;241m.\u001b[39mwith_traceback(filtered_tb) \u001b[38;5;28;01mfrom\u001b[39;00m\u001b[38;5;250m \u001b[39m\u001b[38;5;28;01mNone\u001b[39;00m\n\u001b[0;32m     71\u001b[0m \u001b[38;5;28;01mfinally\u001b[39;00m:\n\u001b[0;32m     72\u001b[0m     \u001b[38;5;28;01mdel\u001b[39;00m filtered_tb\n",
      "File \u001b[1;32mc:\\Users\\espac\\miniconda3\\envs\\islp\\Lib\\site-packages\\tensorflow\\python\\framework\\ops.py:5883\u001b[0m, in \u001b[0;36mraise_from_not_ok_status\u001b[1;34m(e, name)\u001b[0m\n\u001b[0;32m   5881\u001b[0m \u001b[38;5;28;01mdef\u001b[39;00m\u001b[38;5;250m \u001b[39m\u001b[38;5;21mraise_from_not_ok_status\u001b[39m(e, name) \u001b[38;5;241m-\u001b[39m\u001b[38;5;241m>\u001b[39m NoReturn:\n\u001b[0;32m   5882\u001b[0m   e\u001b[38;5;241m.\u001b[39mmessage \u001b[38;5;241m+\u001b[39m\u001b[38;5;241m=\u001b[39m (\u001b[38;5;124m\"\u001b[39m\u001b[38;5;124m name: \u001b[39m\u001b[38;5;124m\"\u001b[39m \u001b[38;5;241m+\u001b[39m \u001b[38;5;28mstr\u001b[39m(name \u001b[38;5;28;01mif\u001b[39;00m name \u001b[38;5;129;01mis\u001b[39;00m \u001b[38;5;129;01mnot\u001b[39;00m \u001b[38;5;28;01mNone\u001b[39;00m \u001b[38;5;28;01melse\u001b[39;00m \u001b[38;5;124m\"\u001b[39m\u001b[38;5;124m\"\u001b[39m))\n\u001b[1;32m-> 5883\u001b[0m   \u001b[38;5;28;01mraise\u001b[39;00m core\u001b[38;5;241m.\u001b[39m_status_to_exception(e) \u001b[38;5;28;01mfrom\u001b[39;00m\u001b[38;5;250m \u001b[39m\u001b[38;5;28;01mNone\u001b[39;00m\n",
      "\u001b[1;31mInvalidArgumentError\u001b[0m: {{function_node __wrapped__SerializeManySparse_device_/job:localhost/replica:0/task:0/device:CPU:0}} indices[523868] = [0,1] is out of order. Many sparse ops require sorted indices.\n    Use `tf.sparse.reorder` to create a correctly ordered copy.\n\n [Op:SerializeManySparse] name: "
     ]
    }
   ],
   "source": [
    "y_true = test_labels_np\n",
    "# imputer = SimpleImputer(strategy='mean') \n",
    "# X_test = imputer.fit_transform(X_test)\n",
    "# y_pred = rf_model.predict(X_test)\n",
    "# y_proba = rf_model.predict_proba(X_test)[:, 1]\n",
    "tn, fp, fn, tp = confusion_matrix(y_test, y_pred).ravel()\n",
    "\n",
    "y_pred_pruned = pruned_model.predict(X_test)\n",
    "y_pred_or = model.predict(X_test)\n",
    "# Quantized model (fp16)\n",
    "y_pred_quant = quantized_model.predict(X_test)\n",
    "\n",
    "# print(\"original Accuracy:\", accuracy_score(test_labels_np, y_pred_or >= 0.5))\n",
    "# print(\"RF Accuracy:\", accuracy_score(test_labels_np, y_proba >= 0.5))\n",
    "print(\"pruned Accuracy:\", accuracy_score(test_labels_np, y_pred_pruned >= 0.5))\n",
    "print(\"Quantized Accuracy:\", accuracy_score(test_labels_np, y_pred_quant >= 0.5))"
   ]
  },
  {
   "cell_type": "code",
   "execution_count": 299,
   "metadata": {},
   "outputs": [
    {
     "name": "stdout",
     "output_type": "stream",
     "text": [
      "Precision: 0.9988284074928493\n",
      "TPR (Recall): 0.9438\n",
      "FPR: 0.0597\n",
      "F1-Score: 0.970526860299005\n",
      "AUC-ROC: 0.9420576865567499\n"
     ]
    }
   ],
   "source": [
    "y_pred_binary_quant = (y_pred_quant > 0.5).astype(int)\n",
    "tn, fp, fn, tp = confusion_matrix(test_labels_np, y_pred_binary_quant).ravel()\n",
    "tpr = tp/(tp+fn)\n",
    "fpr = fp/(fp+tn)\n",
    "\n",
    "print(\"Precision:\", precision_score(y_true, y_pred_binary_quant))\n",
    "print(f\"TPR (Recall): {tpr:.4f}\")\n",
    "print(f\"FPR: {fpr:.4f}\")\n",
    "print(\"F1-Score:\", f1_score(y_true, y_pred_binary_quant))\n",
    "print(\"AUC-ROC:\", roc_auc_score(y_true, y_pred_binary_quant))"
   ]
  },
  {
   "cell_type": "code",
   "execution_count": 300,
   "metadata": {},
   "outputs": [
    {
     "name": "stdout",
     "output_type": "stream",
     "text": [
      "Latency: 0.010265 ms/flow\n"
     ]
    }
   ],
   "source": [
    "start = time.time()\n",
    "y_pred = quantized_model.predict(test_features_reduced)\n",
    "latency_ms = (time.time() - start) * 1000 / len(test_features_reduced)\n",
    "print(f\"Latency: {latency_ms:.6f} ms/flow\")"
   ]
  },
  {
   "cell_type": "code",
   "execution_count": 301,
   "metadata": {},
   "outputs": [
    {
     "data": {
      "image/png": "[encoded data removed]",
      "text/plain": [
       "<Figure size 640x480 with 2 Axes>"
      ]
     },
     "metadata": {},
     "output_type": "display_data"
    }
   ],
   "source": [
    "cm = confusion_matrix(test_labels_np, y_pred_binary_quant)\n",
    "\n",
    "cm_display = ConfusionMatrixDisplay(confusion_matrix = cm, display_labels=[\"Botnet\", \"Safe\"])\n",
    "\n",
    "cm_display.plot()\n",
    "plt.show()"
   ]
  },
  {
   "cell_type": "code",
   "execution_count": 304,
   "metadata": {},
   "outputs": [],
   "source": [
    "\n",
    "X_train, X_test, y_train, y_test = train_test_split(X, y, test_size=0.2, stratify=y, random_state=42)\n"
   ]
  },
  {
   "cell_type": "code",
   "execution_count": 305,
   "metadata": {},
   "outputs": [
    {
     "name": "stdout",
     "output_type": "stream",
     "text": [
      "X_train shape: (2095472, 3338655), y_train shape: (2095472,)\n"
     ]
    }
   ],
   "source": [
    "print(f\"X_train shape: {X_train.shape}, y_train shape: {y_train.shape}\")\n",
    "from sklearn.impute import SimpleImputer\n",
    "imp = SimpleImputer(strategy='mean')\n",
    "X_train = imp.fit_transform(X_train)"
   ]
  },
  {
   "cell_type": "code",
   "execution_count": 310,
   "metadata": {},
   "outputs": [
    {
     "name": "stdout",
     "output_type": "stream",
     "text": [
      "Precision: 0.9910909689169128\n",
      "TPR (Recall): 0.9997\n",
      "FPR: 0.8279\n",
      "F1-Score: 0.9953610619316005\n",
      "AUC-ROC: 0.6041470290963891\n"
     ]
    }
   ],
   "source": [
    "y_true = test_labels_np\n",
    "imputer = SimpleImputer(strategy='mean') \n",
    "X_test = imputer.fit_transform(X_test)\n",
    "y_pred = rf_model.predict(X_test)\n",
    "y_proba = rf_model.predict_proba(X_test)[:, 1]\n",
    "tn, fp, fn, tp = confusion_matrix(y_test, y_pred).ravel()\n",
    "tpr = tp/(tp+fn)\n",
    "fpr = fp/(fp+tn)\n",
    "\n",
    "print(\"Precision:\", precision_score(y_test, y_pred))\n",
    "print(f\"TPR (Recall): {tpr:.4f}\")\n",
    "print(f\"FPR: {fpr:.4f}\")\n",
    "print(\"F1-Score:\", f1_score(y_test, y_pred))\n",
    "print(\"AUC-ROC:\", roc_auc_score(y_test, y_proba))"
   ]
  }
 ],
 "metadata": {
  "kernelspec": {
   "display_name": "Python 3",
   "language": "python",
   "name": "python3"
  },
  "language_info": {
   "codemirror_mode": {
    "name": "ipython",
    "version": 3
   },
   "file_extension": ".py",
   "mimetype": "text/x-python",
   "name": "python",
   "nbconvert_exporter": "python",
   "pygments_lexer": "ipython3",
   "version": "3.11.11"
  }
 },
 "nbformat": 4,
 "nbformat_minor": 2
}
